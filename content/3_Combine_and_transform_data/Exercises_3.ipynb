{
  "metadata": {
    "kernelspec": {
      "name": "python",
      "display_name": "Python (Pyodide)",
      "language": "python"
    },
    "language_info": {
      "codemirror_mode": {
        "name": "python",
        "version": 3
      },
      "file_extension": ".py",
      "mimetype": "text/x-python",
      "name": "python",
      "nbconvert_exporter": "python",
      "pygments_lexer": "ipython3",
      "version": "3.8"
    }
  },
  "nbformat_minor": 4,
  "nbformat": 4,
  "cells": [
    {
      "cell_type": "markdown",
      "source": "# Exercise notebook 3: Transforming and Combining Data\n\nThis Jupyter notebook is for Part 3 of The Open University's _Learn to code for Data Analysis_ course.\n\nThis notebook has all code examples and coding exercises. Remember to start by running the code in this notebook. You will need to add a code cell below each task to complete it.\n\nYou'll come across steps in the course directing you to this notebook. Once you've done each exercise, go back to the corresponding step and mark it as complete.",
      "metadata": {}
    },
    {
      "cell_type": "code",
      "source": "%pip install --quiet matplotlib\nfrom pandas import *",
      "metadata": {
        "trusted": true
      },
      "execution_count": 40,
      "outputs": []
    },
    {
      "cell_type": "markdown",
      "source": "## Exercise 1: Creating the data",
      "metadata": {}
    },
    {
      "cell_type": "markdown",
      "source": "Dataframes can be constructed from scratch as follows.",
      "metadata": {}
    },
    {
      "cell_type": "code",
      "source": "headings = ['Country', 'GDP (US$)']\ntable = [\n  ['UK', 2678454886796.7],    # 1st row\n  ['USA', 16768100000000.0],  # 2nd row\n  ['China', 9240270452047.0], # and so on...\n  ['Brazil', 2245673032353.8],\n  ['South Africa', 366057913367.1]\n]\ngdp = DataFrame(columns=headings, data=table)\ngdp",
      "metadata": {
        "trusted": true
      },
      "execution_count": 2,
      "outputs": [
        {
          "execution_count": 2,
          "output_type": "execute_result",
          "data": {
            "text/plain": "        Country     GDP (US$)\n0            UK  2.678455e+12\n1           USA  1.676810e+13\n2         China  9.240270e+12\n3        Brazil  2.245673e+12\n4  South Africa  3.660579e+11",
            "text/html": "<div>\n<style scoped>\n    .dataframe tbody tr th:only-of-type {\n        vertical-align: middle;\n    }\n\n    .dataframe tbody tr th {\n        vertical-align: top;\n    }\n\n    .dataframe thead th {\n        text-align: right;\n    }\n</style>\n<table border=\"1\" class=\"dataframe\">\n  <thead>\n    <tr style=\"text-align: right;\">\n      <th></th>\n      <th>Country</th>\n      <th>GDP (US$)</th>\n    </tr>\n  </thead>\n  <tbody>\n    <tr>\n      <th>0</th>\n      <td>UK</td>\n      <td>2.678455e+12</td>\n    </tr>\n    <tr>\n      <th>1</th>\n      <td>USA</td>\n      <td>1.676810e+13</td>\n    </tr>\n    <tr>\n      <th>2</th>\n      <td>China</td>\n      <td>9.240270e+12</td>\n    </tr>\n    <tr>\n      <th>3</th>\n      <td>Brazil</td>\n      <td>2.245673e+12</td>\n    </tr>\n    <tr>\n      <th>4</th>\n      <td>South Africa</td>\n      <td>3.660579e+11</td>\n    </tr>\n  </tbody>\n</table>\n</div>"
          },
          "metadata": {}
        }
      ]
    },
    {
      "cell_type": "markdown",
      "source": "And similarly for the life expectancy of those born in 2013...",
      "metadata": {}
    },
    {
      "cell_type": "code",
      "source": "headings = ['Country name', 'Life expectancy (years)']\ntable = [\n  ['China', 75],\n  ['Russia', 71],  \n  ['United States', 79],\n  ['India', 66],\n  ['United Kingdom', 81]\n]\nlife = DataFrame(columns=headings, data=table)\nlife",
      "metadata": {
        "trusted": true
      },
      "execution_count": 3,
      "outputs": [
        {
          "execution_count": 3,
          "output_type": "execute_result",
          "data": {
            "text/plain": "     Country name  Life expectancy (years)\n0           China                       75\n1          Russia                       71\n2   United States                       79\n3           India                       66\n4  United Kingdom                       81",
            "text/html": "<div>\n<style scoped>\n    .dataframe tbody tr th:only-of-type {\n        vertical-align: middle;\n    }\n\n    .dataframe tbody tr th {\n        vertical-align: top;\n    }\n\n    .dataframe thead th {\n        text-align: right;\n    }\n</style>\n<table border=\"1\" class=\"dataframe\">\n  <thead>\n    <tr style=\"text-align: right;\">\n      <th></th>\n      <th>Country name</th>\n      <th>Life expectancy (years)</th>\n    </tr>\n  </thead>\n  <tbody>\n    <tr>\n      <th>0</th>\n      <td>China</td>\n      <td>75</td>\n    </tr>\n    <tr>\n      <th>1</th>\n      <td>Russia</td>\n      <td>71</td>\n    </tr>\n    <tr>\n      <th>2</th>\n      <td>United States</td>\n      <td>79</td>\n    </tr>\n    <tr>\n      <th>3</th>\n      <td>India</td>\n      <td>66</td>\n    </tr>\n    <tr>\n      <th>4</th>\n      <td>United Kingdom</td>\n      <td>81</td>\n    </tr>\n  </tbody>\n</table>\n</div>"
          },
          "metadata": {}
        }
      ]
    },
    {
      "cell_type": "markdown",
      "source": "### Task\n\nCreate a dataframe with all five BRICS countries and their population, in thousands of inhabitants, in 2013. The values (given in the first exercise notebook) are: Brazil 200362, Russian Federation 142834, India 1252140, China 1393337, South Africa 52776.",
      "metadata": {}
    },
    {
      "cell_type": "markdown",
      "source": "**Now go back to the course.**",
      "metadata": {}
    },
    {
      "cell_type": "markdown",
      "source": "## Exercise 2: Defining functions\n\nThe following function, written in two different ways, rounds a number to the nearest million. It calls the Python function `round()` which rounds a decimal number to the nearest integer. If two integers are equally near, it rounds to the even integer.",
      "metadata": {}
    },
    {
      "cell_type": "code",
      "source": "def roundToMillions (value):\n    result = round(value / 1000000)\n    return result",
      "metadata": {
        "trusted": true
      },
      "execution_count": 4,
      "outputs": []
    },
    {
      "cell_type": "code",
      "source": "def roundToMillions (value):\n    return round(value / 1000000)",
      "metadata": {
        "trusted": true
      },
      "execution_count": 5,
      "outputs": []
    },
    {
      "cell_type": "markdown",
      "source": "To test a function, write expressions that check for various argument values whether the function returns the expected value in each case.",
      "metadata": {}
    },
    {
      "cell_type": "code",
      "source": "roundToMillions(4567890.1) == 5",
      "metadata": {
        "trusted": true
      },
      "execution_count": 6,
      "outputs": [
        {
          "execution_count": 6,
          "output_type": "execute_result",
          "data": {
            "text/plain": "True"
          },
          "metadata": {}
        }
      ]
    },
    {
      "cell_type": "code",
      "source": "roundToMillions(0) == 0  # always test with zero...",
      "metadata": {
        "trusted": true
      },
      "execution_count": 7,
      "outputs": [
        {
          "execution_count": 7,
          "output_type": "execute_result",
          "data": {
            "text/plain": "True"
          },
          "metadata": {}
        }
      ]
    },
    {
      "cell_type": "code",
      "source": "roundToMillions(-1) == 0 # ...and negative numbers",
      "metadata": {
        "trusted": true
      },
      "execution_count": 8,
      "outputs": [
        {
          "execution_count": 8,
          "output_type": "execute_result",
          "data": {
            "text/plain": "True"
          },
          "metadata": {}
        }
      ]
    },
    {
      "cell_type": "code",
      "source": "roundToMillions(1499999) == 1 # test rounding to the nearest",
      "metadata": {
        "trusted": true
      },
      "execution_count": 9,
      "outputs": [
        {
          "execution_count": 9,
          "output_type": "execute_result",
          "data": {
            "text/plain": "True"
          },
          "metadata": {}
        }
      ]
    },
    {
      "cell_type": "markdown",
      "source": "The next function converts US dollars to British pounds.",
      "metadata": {}
    },
    {
      "cell_type": "code",
      "source": "def usdToGBP (usd):\n    return usd / 1.564768 # average rate during 2013 \n\nusdToGBP(0) == 0",
      "metadata": {
        "trusted": true
      },
      "execution_count": 10,
      "outputs": [
        {
          "execution_count": 10,
          "output_type": "execute_result",
          "data": {
            "text/plain": "True"
          },
          "metadata": {}
        }
      ]
    },
    {
      "cell_type": "code",
      "source": "usdToGBP(1.564768) == 1",
      "metadata": {
        "trusted": true
      },
      "execution_count": 11,
      "outputs": [
        {
          "execution_count": 11,
          "output_type": "execute_result",
          "data": {
            "text/plain": "True"
          },
          "metadata": {}
        }
      ]
    },
    {
      "cell_type": "code",
      "source": "usdToGBP(-1) < 0",
      "metadata": {
        "trusted": true
      },
      "execution_count": 12,
      "outputs": [
        {
          "execution_count": 12,
          "output_type": "execute_result",
          "data": {
            "text/plain": "True"
          },
          "metadata": {}
        }
      ]
    },
    {
      "cell_type": "markdown",
      "source": "### Tasks\n\n1. Define a few more test cases for both functions.\n- Why can't you use `roundToMillions()` to round the population to millions of inhabitants? Write a new function and test it. **You need to write this function in preparation for Exercise 4.**\n- Write a function to convert US dollars to your local currency. If your local currency is USD or GBP, convert to Euros. Look up online what was the average exchange rate in 2013.",
      "metadata": {}
    },
    {
      "cell_type": "markdown",
      "source": "**Now go back to the course.**",
      "metadata": {}
    },
    {
      "cell_type": "markdown",
      "source": "## Exercise 3: What if...?\n\nThe next function uses the full form of the conditional statement to expand the abbreviated country names UK and USA and leave other names unchanged.",
      "metadata": {}
    },
    {
      "cell_type": "code",
      "source": "def expandCountry (name):\n    if name == 'UK':\n        return 'United Kingdom'\n    elif name == 'USA':\n        return 'United States'\n    else:\n        return name\n\nexpandCountry('India') == 'India'",
      "metadata": {
        "trusted": true
      },
      "execution_count": 13,
      "outputs": [
        {
          "execution_count": 13,
          "output_type": "execute_result",
          "data": {
            "text/plain": "True"
          },
          "metadata": {}
        }
      ]
    },
    {
      "cell_type": "markdown",
      "source": "Here is the same function, written differently, using the simplest form of the conditional statement, without the `elif` and `else` parts.",
      "metadata": {}
    },
    {
      "cell_type": "code",
      "source": "def expandCountry (name):\n    if name == 'UK':\n        name = 'United Kingdom'\n    if name == 'USA':\n        name = 'United States'\n    return name",
      "metadata": {
        "trusted": true
      },
      "execution_count": 14,
      "outputs": []
    },
    {
      "cell_type": "markdown",
      "source": "### Tasks\n\n1. Write more tests.\n- Explain why the second version of the function works. Note how the code is indented.\n- Extend both versions to expand 'St. Lucia' to 'Saint Lucia'.\n- Write a function to translate some country names from their original language to English, e.g. 'Brasil' to 'Brazil', 'España' to 'Spain' and 'Deutschland' to 'Germany'.\n- Can you think of a different way of expanding abbreviated country names? You're not expected to write any code. Hint: this is a course about data tables.",
      "metadata": {}
    },
    {
      "cell_type": "markdown",
      "source": "**Now go back to the course.**",
      "metadata": {}
    },
    {
      "cell_type": "markdown",
      "source": "## Exercise 4: Applying functions\n\nA one-argument function can be applied to each cell in a column, in order to obtain a new column with the converted values.",
      "metadata": {}
    },
    {
      "cell_type": "code",
      "source": "gdp['Country name'] = gdp['Country'].apply(expandCountry)\ngdp",
      "metadata": {
        "trusted": true
      },
      "execution_count": 15,
      "outputs": [
        {
          "execution_count": 15,
          "output_type": "execute_result",
          "data": {
            "text/plain": "        Country     GDP (US$)    Country name\n0            UK  2.678455e+12  United Kingdom\n1           USA  1.676810e+13   United States\n2         China  9.240270e+12           China\n3        Brazil  2.245673e+12          Brazil\n4  South Africa  3.660579e+11    South Africa",
            "text/html": "<div>\n<style scoped>\n    .dataframe tbody tr th:only-of-type {\n        vertical-align: middle;\n    }\n\n    .dataframe tbody tr th {\n        vertical-align: top;\n    }\n\n    .dataframe thead th {\n        text-align: right;\n    }\n</style>\n<table border=\"1\" class=\"dataframe\">\n  <thead>\n    <tr style=\"text-align: right;\">\n      <th></th>\n      <th>Country</th>\n      <th>GDP (US$)</th>\n      <th>Country name</th>\n    </tr>\n  </thead>\n  <tbody>\n    <tr>\n      <th>0</th>\n      <td>UK</td>\n      <td>2.678455e+12</td>\n      <td>United Kingdom</td>\n    </tr>\n    <tr>\n      <th>1</th>\n      <td>USA</td>\n      <td>1.676810e+13</td>\n      <td>United States</td>\n    </tr>\n    <tr>\n      <th>2</th>\n      <td>China</td>\n      <td>9.240270e+12</td>\n      <td>China</td>\n    </tr>\n    <tr>\n      <th>3</th>\n      <td>Brazil</td>\n      <td>2.245673e+12</td>\n      <td>Brazil</td>\n    </tr>\n    <tr>\n      <th>4</th>\n      <td>South Africa</td>\n      <td>3.660579e+11</td>\n      <td>South Africa</td>\n    </tr>\n  </tbody>\n</table>\n</div>"
          },
          "metadata": {}
        }
      ]
    },
    {
      "cell_type": "markdown",
      "source": "Given that `apply()` is a column method that returns a column, it can be **chained**, to apply several conversions in one go.",
      "metadata": {}
    },
    {
      "cell_type": "code",
      "source": "gdp['GDP (£m)'] = gdp['GDP (US$)'].apply(usdToGBP).apply(roundToMillions)\ngdp",
      "metadata": {
        "trusted": true
      },
      "execution_count": 16,
      "outputs": [
        {
          "execution_count": 16,
          "output_type": "execute_result",
          "data": {
            "text/plain": "        Country     GDP (US$)    Country name  GDP (£m)\n0            UK  2.678455e+12  United Kingdom   1711727\n1           USA  1.676810e+13   United States  10716029\n2         China  9.240270e+12           China   5905202\n3        Brazil  2.245673e+12          Brazil   1435148\n4  South Africa  3.660579e+11    South Africa    233937",
            "text/html": "<div>\n<style scoped>\n    .dataframe tbody tr th:only-of-type {\n        vertical-align: middle;\n    }\n\n    .dataframe tbody tr th {\n        vertical-align: top;\n    }\n\n    .dataframe thead th {\n        text-align: right;\n    }\n</style>\n<table border=\"1\" class=\"dataframe\">\n  <thead>\n    <tr style=\"text-align: right;\">\n      <th></th>\n      <th>Country</th>\n      <th>GDP (US$)</th>\n      <th>Country name</th>\n      <th>GDP (£m)</th>\n    </tr>\n  </thead>\n  <tbody>\n    <tr>\n      <th>0</th>\n      <td>UK</td>\n      <td>2.678455e+12</td>\n      <td>United Kingdom</td>\n      <td>1711727</td>\n    </tr>\n    <tr>\n      <th>1</th>\n      <td>USA</td>\n      <td>1.676810e+13</td>\n      <td>United States</td>\n      <td>10716029</td>\n    </tr>\n    <tr>\n      <th>2</th>\n      <td>China</td>\n      <td>9.240270e+12</td>\n      <td>China</td>\n      <td>5905202</td>\n    </tr>\n    <tr>\n      <th>3</th>\n      <td>Brazil</td>\n      <td>2.245673e+12</td>\n      <td>Brazil</td>\n      <td>1435148</td>\n    </tr>\n    <tr>\n      <th>4</th>\n      <td>South Africa</td>\n      <td>3.660579e+11</td>\n      <td>South Africa</td>\n      <td>233937</td>\n    </tr>\n  </tbody>\n</table>\n</div>"
          },
          "metadata": {}
        }
      ]
    },
    {
      "cell_type": "markdown",
      "source": "Applying the conversion functions in a different order will lead to a different result.",
      "metadata": {}
    },
    {
      "cell_type": "code",
      "source": "gdp['GDP (US$)'].apply(roundToMillions).apply(usdToGBP).apply(round)",
      "metadata": {
        "trusted": true
      },
      "execution_count": 17,
      "outputs": [
        {
          "execution_count": 17,
          "output_type": "execute_result",
          "data": {
            "text/plain": "0     1711727\n1    10716029\n2     5905201\n3     1435148\n4      233938\nName: GDP (US$), dtype: int64"
          },
          "metadata": {}
        }
      ]
    },
    {
      "cell_type": "markdown",
      "source": "The original columns can be discarded.",
      "metadata": {}
    },
    {
      "cell_type": "code",
      "source": "headings = ['Country name', 'GDP (£m)']\ngdp = gdp[headings]\ngdp",
      "metadata": {
        "trusted": true
      },
      "execution_count": 18,
      "outputs": [
        {
          "execution_count": 18,
          "output_type": "execute_result",
          "data": {
            "text/plain": "     Country name  GDP (£m)\n0  United Kingdom   1711727\n1   United States  10716029\n2           China   5905202\n3          Brazil   1435148\n4    South Africa    233937",
            "text/html": "<div>\n<style scoped>\n    .dataframe tbody tr th:only-of-type {\n        vertical-align: middle;\n    }\n\n    .dataframe tbody tr th {\n        vertical-align: top;\n    }\n\n    .dataframe thead th {\n        text-align: right;\n    }\n</style>\n<table border=\"1\" class=\"dataframe\">\n  <thead>\n    <tr style=\"text-align: right;\">\n      <th></th>\n      <th>Country name</th>\n      <th>GDP (£m)</th>\n    </tr>\n  </thead>\n  <tbody>\n    <tr>\n      <th>0</th>\n      <td>United Kingdom</td>\n      <td>1711727</td>\n    </tr>\n    <tr>\n      <th>1</th>\n      <td>United States</td>\n      <td>10716029</td>\n    </tr>\n    <tr>\n      <th>2</th>\n      <td>China</td>\n      <td>5905202</td>\n    </tr>\n    <tr>\n      <th>3</th>\n      <td>Brazil</td>\n      <td>1435148</td>\n    </tr>\n    <tr>\n      <th>4</th>\n      <td>South Africa</td>\n      <td>233937</td>\n    </tr>\n  </tbody>\n</table>\n</div>"
          },
          "metadata": {}
        }
      ]
    },
    {
      "cell_type": "markdown",
      "source": "### Task\n\nTake the dataframe you created for Exercise 1, and apply to its population column the rounding function you wrote in Exercise 2.",
      "metadata": {}
    },
    {
      "cell_type": "markdown",
      "source": "**Now go back to the course.**",
      "metadata": {}
    },
    {
      "cell_type": "markdown",
      "source": "## Exercise 5: Joining left, right and centre\n\nAt this point, both tables have a common column, 'Country name', with fully expanded country names.",
      "metadata": {}
    },
    {
      "cell_type": "code",
      "source": "life",
      "metadata": {
        "trusted": true
      },
      "execution_count": 19,
      "outputs": [
        {
          "execution_count": 19,
          "output_type": "execute_result",
          "data": {
            "text/plain": "     Country name  Life expectancy (years)\n0           China                       75\n1          Russia                       71\n2   United States                       79\n3           India                       66\n4  United Kingdom                       81",
            "text/html": "<div>\n<style scoped>\n    .dataframe tbody tr th:only-of-type {\n        vertical-align: middle;\n    }\n\n    .dataframe tbody tr th {\n        vertical-align: top;\n    }\n\n    .dataframe thead th {\n        text-align: right;\n    }\n</style>\n<table border=\"1\" class=\"dataframe\">\n  <thead>\n    <tr style=\"text-align: right;\">\n      <th></th>\n      <th>Country name</th>\n      <th>Life expectancy (years)</th>\n    </tr>\n  </thead>\n  <tbody>\n    <tr>\n      <th>0</th>\n      <td>China</td>\n      <td>75</td>\n    </tr>\n    <tr>\n      <th>1</th>\n      <td>Russia</td>\n      <td>71</td>\n    </tr>\n    <tr>\n      <th>2</th>\n      <td>United States</td>\n      <td>79</td>\n    </tr>\n    <tr>\n      <th>3</th>\n      <td>India</td>\n      <td>66</td>\n    </tr>\n    <tr>\n      <th>4</th>\n      <td>United Kingdom</td>\n      <td>81</td>\n    </tr>\n  </tbody>\n</table>\n</div>"
          },
          "metadata": {}
        }
      ]
    },
    {
      "cell_type": "code",
      "source": "gdp",
      "metadata": {
        "trusted": true
      },
      "execution_count": 20,
      "outputs": [
        {
          "execution_count": 20,
          "output_type": "execute_result",
          "data": {
            "text/plain": "     Country name  GDP (£m)\n0  United Kingdom   1711727\n1   United States  10716029\n2           China   5905202\n3          Brazil   1435148\n4    South Africa    233937",
            "text/html": "<div>\n<style scoped>\n    .dataframe tbody tr th:only-of-type {\n        vertical-align: middle;\n    }\n\n    .dataframe tbody tr th {\n        vertical-align: top;\n    }\n\n    .dataframe thead th {\n        text-align: right;\n    }\n</style>\n<table border=\"1\" class=\"dataframe\">\n  <thead>\n    <tr style=\"text-align: right;\">\n      <th></th>\n      <th>Country name</th>\n      <th>GDP (£m)</th>\n    </tr>\n  </thead>\n  <tbody>\n    <tr>\n      <th>0</th>\n      <td>United Kingdom</td>\n      <td>1711727</td>\n    </tr>\n    <tr>\n      <th>1</th>\n      <td>United States</td>\n      <td>10716029</td>\n    </tr>\n    <tr>\n      <th>2</th>\n      <td>China</td>\n      <td>5905202</td>\n    </tr>\n    <tr>\n      <th>3</th>\n      <td>Brazil</td>\n      <td>1435148</td>\n    </tr>\n    <tr>\n      <th>4</th>\n      <td>South Africa</td>\n      <td>233937</td>\n    </tr>\n  </tbody>\n</table>\n</div>"
          },
          "metadata": {}
        }
      ]
    },
    {
      "cell_type": "markdown",
      "source": "A **left join** takes the rows of the left table and adds the columns of the right table. ",
      "metadata": {}
    },
    {
      "cell_type": "code",
      "source": "merge(gdp, life, on='Country name', how='left')",
      "metadata": {
        "trusted": true
      },
      "execution_count": 21,
      "outputs": [
        {
          "execution_count": 21,
          "output_type": "execute_result",
          "data": {
            "text/plain": "     Country name  GDP (£m)  Life expectancy (years)\n0  United Kingdom   1711727                     81.0\n1   United States  10716029                     79.0\n2           China   5905202                     75.0\n3          Brazil   1435148                      NaN\n4    South Africa    233937                      NaN",
            "text/html": "<div>\n<style scoped>\n    .dataframe tbody tr th:only-of-type {\n        vertical-align: middle;\n    }\n\n    .dataframe tbody tr th {\n        vertical-align: top;\n    }\n\n    .dataframe thead th {\n        text-align: right;\n    }\n</style>\n<table border=\"1\" class=\"dataframe\">\n  <thead>\n    <tr style=\"text-align: right;\">\n      <th></th>\n      <th>Country name</th>\n      <th>GDP (£m)</th>\n      <th>Life expectancy (years)</th>\n    </tr>\n  </thead>\n  <tbody>\n    <tr>\n      <th>0</th>\n      <td>United Kingdom</td>\n      <td>1711727</td>\n      <td>81.0</td>\n    </tr>\n    <tr>\n      <th>1</th>\n      <td>United States</td>\n      <td>10716029</td>\n      <td>79.0</td>\n    </tr>\n    <tr>\n      <th>2</th>\n      <td>China</td>\n      <td>5905202</td>\n      <td>75.0</td>\n    </tr>\n    <tr>\n      <th>3</th>\n      <td>Brazil</td>\n      <td>1435148</td>\n      <td>NaN</td>\n    </tr>\n    <tr>\n      <th>4</th>\n      <td>South Africa</td>\n      <td>233937</td>\n      <td>NaN</td>\n    </tr>\n  </tbody>\n</table>\n</div>"
          },
          "metadata": {}
        }
      ]
    },
    {
      "cell_type": "markdown",
      "source": "A **right join** takes the rows from the right table, and adds the columns of the left table.",
      "metadata": {}
    },
    {
      "cell_type": "code",
      "source": "merge(gdp, life, on='Country name', how='right')",
      "metadata": {
        "trusted": true
      },
      "execution_count": 22,
      "outputs": [
        {
          "execution_count": 22,
          "output_type": "execute_result",
          "data": {
            "text/plain": "     Country name    GDP (£m)  Life expectancy (years)\n0           China   5905202.0                       75\n1          Russia         NaN                       71\n2   United States  10716029.0                       79\n3           India         NaN                       66\n4  United Kingdom   1711727.0                       81",
            "text/html": "<div>\n<style scoped>\n    .dataframe tbody tr th:only-of-type {\n        vertical-align: middle;\n    }\n\n    .dataframe tbody tr th {\n        vertical-align: top;\n    }\n\n    .dataframe thead th {\n        text-align: right;\n    }\n</style>\n<table border=\"1\" class=\"dataframe\">\n  <thead>\n    <tr style=\"text-align: right;\">\n      <th></th>\n      <th>Country name</th>\n      <th>GDP (£m)</th>\n      <th>Life expectancy (years)</th>\n    </tr>\n  </thead>\n  <tbody>\n    <tr>\n      <th>0</th>\n      <td>China</td>\n      <td>5905202.0</td>\n      <td>75</td>\n    </tr>\n    <tr>\n      <th>1</th>\n      <td>Russia</td>\n      <td>NaN</td>\n      <td>71</td>\n    </tr>\n    <tr>\n      <th>2</th>\n      <td>United States</td>\n      <td>10716029.0</td>\n      <td>79</td>\n    </tr>\n    <tr>\n      <th>3</th>\n      <td>India</td>\n      <td>NaN</td>\n      <td>66</td>\n    </tr>\n    <tr>\n      <th>4</th>\n      <td>United Kingdom</td>\n      <td>1711727.0</td>\n      <td>81</td>\n    </tr>\n  </tbody>\n</table>\n</div>"
          },
          "metadata": {}
        }
      ]
    },
    {
      "cell_type": "markdown",
      "source": "An **outer join** takes the union of the rows, i.e. it has all the rows of the left and right joins.",
      "metadata": {}
    },
    {
      "cell_type": "code",
      "source": "merge(gdp, life, on='Country name', how='outer')",
      "metadata": {
        "trusted": true
      },
      "execution_count": 23,
      "outputs": [
        {
          "execution_count": 23,
          "output_type": "execute_result",
          "data": {
            "text/plain": "     Country name    GDP (£m)  Life expectancy (years)\n0  United Kingdom   1711727.0                     81.0\n1   United States  10716029.0                     79.0\n2           China   5905202.0                     75.0\n3          Brazil   1435148.0                      NaN\n4    South Africa    233937.0                      NaN\n5          Russia         NaN                     71.0\n6           India         NaN                     66.0",
            "text/html": "<div>\n<style scoped>\n    .dataframe tbody tr th:only-of-type {\n        vertical-align: middle;\n    }\n\n    .dataframe tbody tr th {\n        vertical-align: top;\n    }\n\n    .dataframe thead th {\n        text-align: right;\n    }\n</style>\n<table border=\"1\" class=\"dataframe\">\n  <thead>\n    <tr style=\"text-align: right;\">\n      <th></th>\n      <th>Country name</th>\n      <th>GDP (£m)</th>\n      <th>Life expectancy (years)</th>\n    </tr>\n  </thead>\n  <tbody>\n    <tr>\n      <th>0</th>\n      <td>United Kingdom</td>\n      <td>1711727.0</td>\n      <td>81.0</td>\n    </tr>\n    <tr>\n      <th>1</th>\n      <td>United States</td>\n      <td>10716029.0</td>\n      <td>79.0</td>\n    </tr>\n    <tr>\n      <th>2</th>\n      <td>China</td>\n      <td>5905202.0</td>\n      <td>75.0</td>\n    </tr>\n    <tr>\n      <th>3</th>\n      <td>Brazil</td>\n      <td>1435148.0</td>\n      <td>NaN</td>\n    </tr>\n    <tr>\n      <th>4</th>\n      <td>South Africa</td>\n      <td>233937.0</td>\n      <td>NaN</td>\n    </tr>\n    <tr>\n      <th>5</th>\n      <td>Russia</td>\n      <td>NaN</td>\n      <td>71.0</td>\n    </tr>\n    <tr>\n      <th>6</th>\n      <td>India</td>\n      <td>NaN</td>\n      <td>66.0</td>\n    </tr>\n  </tbody>\n</table>\n</div>"
          },
          "metadata": {}
        }
      ]
    },
    {
      "cell_type": "markdown",
      "source": "An **inner join** takes the intersection of the rows (i.e. the common rows) of the left and right joins.",
      "metadata": {}
    },
    {
      "cell_type": "code",
      "source": "gdpVsLife = merge(gdp, life, on='Country name', how='inner')\ngdpVsLife",
      "metadata": {
        "trusted": true
      },
      "execution_count": 24,
      "outputs": [
        {
          "execution_count": 24,
          "output_type": "execute_result",
          "data": {
            "text/plain": "     Country name  GDP (£m)  Life expectancy (years)\n0  United Kingdom   1711727                       81\n1   United States  10716029                       79\n2           China   5905202                       75",
            "text/html": "<div>\n<style scoped>\n    .dataframe tbody tr th:only-of-type {\n        vertical-align: middle;\n    }\n\n    .dataframe tbody tr th {\n        vertical-align: top;\n    }\n\n    .dataframe thead th {\n        text-align: right;\n    }\n</style>\n<table border=\"1\" class=\"dataframe\">\n  <thead>\n    <tr style=\"text-align: right;\">\n      <th></th>\n      <th>Country name</th>\n      <th>GDP (£m)</th>\n      <th>Life expectancy (years)</th>\n    </tr>\n  </thead>\n  <tbody>\n    <tr>\n      <th>0</th>\n      <td>United Kingdom</td>\n      <td>1711727</td>\n      <td>81</td>\n    </tr>\n    <tr>\n      <th>1</th>\n      <td>United States</td>\n      <td>10716029</td>\n      <td>79</td>\n    </tr>\n    <tr>\n      <th>2</th>\n      <td>China</td>\n      <td>5905202</td>\n      <td>75</td>\n    </tr>\n  </tbody>\n</table>\n</div>"
          },
          "metadata": {}
        }
      ]
    },
    {
      "cell_type": "markdown",
      "source": "### Task\n\nJoin your population dataframe (from Exercise 4) with `gdpVsLife`, in four different ways, and note the differences.",
      "metadata": {}
    },
    {
      "cell_type": "markdown",
      "source": "**Now go back to the course.**",
      "metadata": {}
    },
    {
      "cell_type": "markdown",
      "source": "## Exercise 6: Constant variables\n\nConstants are used to represent fixed values (e.g. strings and numbers) that occur frequently in a program. Constant names are conventionally written in uppercase, with underscores to separate multiple words.",
      "metadata": {}
    },
    {
      "cell_type": "code",
      "source": "GDP_USD = 'GDP (US$)'\nGDP_GBP = 'GDP (£m)'\nGDP_USD",
      "metadata": {
        "trusted": true
      },
      "execution_count": 25,
      "outputs": [
        {
          "execution_count": 25,
          "output_type": "execute_result",
          "data": {
            "text/plain": "'GDP (US$)'"
          },
          "metadata": {}
        }
      ]
    },
    {
      "cell_type": "markdown",
      "source": "### Task\n\nLook through the code you wrote so far, and rewrite it using constants, when appropriate.",
      "metadata": {}
    },
    {
      "cell_type": "markdown",
      "source": "**Now go back to the course.**",
      "metadata": {}
    },
    {
      "cell_type": "markdown",
      "source": "## Exercise 7: Getting real\n\nIt is possible to directly download data from the World Bank, for a particular time period and indicator, like the GDP in current US dollars. The indicator name is given in the URL of the webpage about the dataset.\n\nGetting the data directly from the World Bank only works with Anaconda (or a paid CoCalc account) and requires an Internet connection. It can take some time to download the data, depending on the speed of your connection and the load on the World Bank server. Moreover, the World Bank occasionally changes the layout of the data, which could break the code in the rest of this notebook. \n\nTo avoid such problems I have saved the World Bank data into CSV files. The data is in a column with the same name as the indicator. Hence I declare the indicator names as constants, to be used later when processing the dataframe.",
      "metadata": {}
    },
    {
      "cell_type": "code",
      "source": "GDP_INDICATOR = 'NY.GDP.MKTP.CD'\ngdpReset = read_csv('WB GDP 2013.csv')\n\nLIFE_INDICATOR = 'SP.DYN.LE00.IN'\nlifeReset = read_csv('WB LE 2013.csv')",
      "metadata": {
        "trusted": true
      },
      "execution_count": 26,
      "outputs": []
    },
    {
      "cell_type": "markdown",
      "source": "The CSV files were obtained in two steps, which are shown next in commented code because we already have the CSV files. \n\nFirst the data was obtained directly from the World Bank using a particular function in pandas, and indicating the desired indicator and time period. Note that you may have to install the `pandas_datareader` module, using Anaconda Navigator.",
      "metadata": {}
    },
    {
      "cell_type": "code",
      "source": "%pip install --quiet ou-wbpy\nfrom ou_wbpy.api import wbapi\n\napi = wbapi()\n\nSTART = END = YEAR = 2013\napi.get_dataframe(LIFE_INDICATOR, date=f\"{START}:{END}\")\n\ngdpW2 = api.get_dataframe(GDP_INDICATOR, date=f\"{START}:{END}\")\nlifeWB2 = api.get_dataframe(LIFE_INDICATOR, date=f\"{START}:{END}\")\nlifeWB2.head(20)\n\nlifeWB2.to_csv(\"WB POP EXAMPLE.csv\", index=False)",
      "metadata": {
        "trusted": true
      },
      "execution_count": 27,
      "outputs": [
        {
          "name": "stdout",
          "text": "https://api.worldbank.org/v2/country?format=json&per_page=10000\nhttps://api.worldbank.org/v2/countries/all/indicators/SP.DYN.LE00.IN?date=2013%3A2013&format=json&per_page=10000\nhttps://api.worldbank.org/v2/countries/all/indicators/NY.GDP.MKTP.CD?date=2013%3A2013&format=json&per_page=10000\nhttps://api.worldbank.org/v2/countries/all/indicators/SP.DYN.LE00.IN?date=2013%3A2013&format=json&per_page=10000\n",
          "output_type": "stream"
        }
      ]
    },
    {
      "cell_type": "code",
      "source": "lifeReset.head()",
      "metadata": {
        "trusted": true
      },
      "execution_count": 28,
      "outputs": [
        {
          "execution_count": 28,
          "output_type": "execute_result",
          "data": {
            "text/plain": "                                   country  year  SP.DYN.LE00.IN\n0                               Arab World  2013       70.631305\n1                   Caribbean small states  2013       71.901964\n2           Central Europe and the Baltics  2013       76.127583\n3  East Asia & Pacific (all income levels)  2013       74.604619\n4    East Asia & Pacific (developing only)  2013       73.657617",
            "text/html": "<div>\n<style scoped>\n    .dataframe tbody tr th:only-of-type {\n        vertical-align: middle;\n    }\n\n    .dataframe tbody tr th {\n        vertical-align: top;\n    }\n\n    .dataframe thead th {\n        text-align: right;\n    }\n</style>\n<table border=\"1\" class=\"dataframe\">\n  <thead>\n    <tr style=\"text-align: right;\">\n      <th></th>\n      <th>country</th>\n      <th>year</th>\n      <th>SP.DYN.LE00.IN</th>\n    </tr>\n  </thead>\n  <tbody>\n    <tr>\n      <th>0</th>\n      <td>Arab World</td>\n      <td>2013</td>\n      <td>70.631305</td>\n    </tr>\n    <tr>\n      <th>1</th>\n      <td>Caribbean small states</td>\n      <td>2013</td>\n      <td>71.901964</td>\n    </tr>\n    <tr>\n      <th>2</th>\n      <td>Central Europe and the Baltics</td>\n      <td>2013</td>\n      <td>76.127583</td>\n    </tr>\n    <tr>\n      <th>3</th>\n      <td>East Asia &amp; Pacific (all income levels)</td>\n      <td>2013</td>\n      <td>74.604619</td>\n    </tr>\n    <tr>\n      <th>4</th>\n      <td>East Asia &amp; Pacific (developing only)</td>\n      <td>2013</td>\n      <td>73.657617</td>\n    </tr>\n  </tbody>\n</table>\n</div>"
          },
          "metadata": {}
        }
      ]
    },
    {
      "cell_type": "markdown",
      "source": "### Tasks\n\n1. Create a data frame with the World Bank's data on population, using the CSV file provided. **This dataframe will be used in the remaining exercises.**\n- If you're using Anaconda, uncomment the code above and run it to check that you can get the GDP and life expectancy data directly from the World Bank. **Don't forget to afterwards comment again the code.**\n- If you have extra time, you can alternatively obtain the population data directly from the World Bank: go to their [data page](http://data.worldbank.org/), search for population, select the total population indicator, note its name in the URL, copy the commented code above and adapt it to get the data and reset its index. Note that the World Bank may have changed its data format since this was written and therefore you may have to do extra steps to get a dataframe in the same shape as the CSV file we provide, with three columns for country name, year and population.",
      "metadata": {}
    },
    {
      "cell_type": "markdown",
      "source": "**Now go back to the course.**",
      "metadata": {}
    },
    {
      "cell_type": "markdown",
      "source": "## Exercise 8: Cleaning up\n\nThe expression `frame[m:n]` represents a dataframe with only row `m` to row `n-1` (or until the end if `n` is omitted) of `frame`.",
      "metadata": {}
    },
    {
      "cell_type": "code",
      "source": "lifeReset[0:3]",
      "metadata": {
        "trusted": true
      },
      "execution_count": 29,
      "outputs": [
        {
          "execution_count": 29,
          "output_type": "execute_result",
          "data": {
            "text/plain": "                          country  year  SP.DYN.LE00.IN\n0                      Arab World  2013       70.631305\n1          Caribbean small states  2013       71.901964\n2  Central Europe and the Baltics  2013       76.127583",
            "text/html": "<div>\n<style scoped>\n    .dataframe tbody tr th:only-of-type {\n        vertical-align: middle;\n    }\n\n    .dataframe tbody tr th {\n        vertical-align: top;\n    }\n\n    .dataframe thead th {\n        text-align: right;\n    }\n</style>\n<table border=\"1\" class=\"dataframe\">\n  <thead>\n    <tr style=\"text-align: right;\">\n      <th></th>\n      <th>country</th>\n      <th>year</th>\n      <th>SP.DYN.LE00.IN</th>\n    </tr>\n  </thead>\n  <tbody>\n    <tr>\n      <th>0</th>\n      <td>Arab World</td>\n      <td>2013</td>\n      <td>70.631305</td>\n    </tr>\n    <tr>\n      <th>1</th>\n      <td>Caribbean small states</td>\n      <td>2013</td>\n      <td>71.901964</td>\n    </tr>\n    <tr>\n      <th>2</th>\n      <td>Central Europe and the Baltics</td>\n      <td>2013</td>\n      <td>76.127583</td>\n    </tr>\n  </tbody>\n</table>\n</div>"
          },
          "metadata": {}
        }
      ]
    },
    {
      "cell_type": "code",
      "source": "lifeReset[240:]",
      "metadata": {
        "trusted": true
      },
      "execution_count": 30,
      "outputs": [
        {
          "execution_count": 30,
          "output_type": "execute_result",
          "data": {
            "text/plain": "                   country  year  SP.DYN.LE00.IN\n240                Vanuatu  2013       71.669244\n241          Venezuela, RB  2013       74.074415\n242                Vietnam  2013       75.756488\n243  Virgin Islands (U.S.)  2013       79.624390\n244     West Bank and Gaza  2013       73.203341\n245            Yemen, Rep.  2013       63.583512\n246                 Zambia  2013       59.237366\n247               Zimbabwe  2013       55.633000",
            "text/html": "<div>\n<style scoped>\n    .dataframe tbody tr th:only-of-type {\n        vertical-align: middle;\n    }\n\n    .dataframe tbody tr th {\n        vertical-align: top;\n    }\n\n    .dataframe thead th {\n        text-align: right;\n    }\n</style>\n<table border=\"1\" class=\"dataframe\">\n  <thead>\n    <tr style=\"text-align: right;\">\n      <th></th>\n      <th>country</th>\n      <th>year</th>\n      <th>SP.DYN.LE00.IN</th>\n    </tr>\n  </thead>\n  <tbody>\n    <tr>\n      <th>240</th>\n      <td>Vanuatu</td>\n      <td>2013</td>\n      <td>71.669244</td>\n    </tr>\n    <tr>\n      <th>241</th>\n      <td>Venezuela, RB</td>\n      <td>2013</td>\n      <td>74.074415</td>\n    </tr>\n    <tr>\n      <th>242</th>\n      <td>Vietnam</td>\n      <td>2013</td>\n      <td>75.756488</td>\n    </tr>\n    <tr>\n      <th>243</th>\n      <td>Virgin Islands (U.S.)</td>\n      <td>2013</td>\n      <td>79.624390</td>\n    </tr>\n    <tr>\n      <th>244</th>\n      <td>West Bank and Gaza</td>\n      <td>2013</td>\n      <td>73.203341</td>\n    </tr>\n    <tr>\n      <th>245</th>\n      <td>Yemen, Rep.</td>\n      <td>2013</td>\n      <td>63.583512</td>\n    </tr>\n    <tr>\n      <th>246</th>\n      <td>Zambia</td>\n      <td>2013</td>\n      <td>59.237366</td>\n    </tr>\n    <tr>\n      <th>247</th>\n      <td>Zimbabwe</td>\n      <td>2013</td>\n      <td>55.633000</td>\n    </tr>\n  </tbody>\n</table>\n</div>"
          },
          "metadata": {}
        }
      ]
    },
    {
      "cell_type": "markdown",
      "source": "The first rows of World Bank dataframes are aggregated data for country groups, and are thus discarded. There were 34 country groups when I generated the CSV files, but the World Bank sometimes adds or removes groups. Therefore, if you obtained the data directly from the World Bank, you may need to discard more or fewer than 34 rows to get a dataframe that starts with Afghanistan.",
      "metadata": {}
    },
    {
      "cell_type": "code",
      "source": "gdpCountries = gdpReset[34:]\nlifeCountries = lifeReset[34:]\ngdpCountries.head()",
      "metadata": {
        "trusted": true
      },
      "execution_count": 31,
      "outputs": [
        {
          "execution_count": 31,
          "output_type": "execute_result",
          "data": {
            "text/plain": "           country  year  NY.GDP.MKTP.CD\n34     Afghanistan  2013    2.045894e+10\n35         Albania  2013    1.278103e+10\n36         Algeria  2013    2.097035e+11\n37  American Samoa  2013             NaN\n38         Andorra  2013    3.249101e+09",
            "text/html": "<div>\n<style scoped>\n    .dataframe tbody tr th:only-of-type {\n        vertical-align: middle;\n    }\n\n    .dataframe tbody tr th {\n        vertical-align: top;\n    }\n\n    .dataframe thead th {\n        text-align: right;\n    }\n</style>\n<table border=\"1\" class=\"dataframe\">\n  <thead>\n    <tr style=\"text-align: right;\">\n      <th></th>\n      <th>country</th>\n      <th>year</th>\n      <th>NY.GDP.MKTP.CD</th>\n    </tr>\n  </thead>\n  <tbody>\n    <tr>\n      <th>34</th>\n      <td>Afghanistan</td>\n      <td>2013</td>\n      <td>2.045894e+10</td>\n    </tr>\n    <tr>\n      <th>35</th>\n      <td>Albania</td>\n      <td>2013</td>\n      <td>1.278103e+10</td>\n    </tr>\n    <tr>\n      <th>36</th>\n      <td>Algeria</td>\n      <td>2013</td>\n      <td>2.097035e+11</td>\n    </tr>\n    <tr>\n      <th>37</th>\n      <td>American Samoa</td>\n      <td>2013</td>\n      <td>NaN</td>\n    </tr>\n    <tr>\n      <th>38</th>\n      <td>Andorra</td>\n      <td>2013</td>\n      <td>3.249101e+09</td>\n    </tr>\n  </tbody>\n</table>\n</div>"
          },
          "metadata": {}
        }
      ]
    },
    {
      "cell_type": "markdown",
      "source": "Rows with missing data are dropped.",
      "metadata": {}
    },
    {
      "cell_type": "code",
      "source": "gdpData = gdpCountries.dropna()\nlifeData = lifeCountries.dropna()\ngdpData.head()",
      "metadata": {
        "trusted": true
      },
      "execution_count": 32,
      "outputs": [
        {
          "execution_count": 32,
          "output_type": "execute_result",
          "data": {
            "text/plain": "        country  year  NY.GDP.MKTP.CD\n34  Afghanistan  2013    2.045894e+10\n35      Albania  2013    1.278103e+10\n36      Algeria  2013    2.097035e+11\n38      Andorra  2013    3.249101e+09\n39       Angola  2013    1.383568e+11",
            "text/html": "<div>\n<style scoped>\n    .dataframe tbody tr th:only-of-type {\n        vertical-align: middle;\n    }\n\n    .dataframe tbody tr th {\n        vertical-align: top;\n    }\n\n    .dataframe thead th {\n        text-align: right;\n    }\n</style>\n<table border=\"1\" class=\"dataframe\">\n  <thead>\n    <tr style=\"text-align: right;\">\n      <th></th>\n      <th>country</th>\n      <th>year</th>\n      <th>NY.GDP.MKTP.CD</th>\n    </tr>\n  </thead>\n  <tbody>\n    <tr>\n      <th>34</th>\n      <td>Afghanistan</td>\n      <td>2013</td>\n      <td>2.045894e+10</td>\n    </tr>\n    <tr>\n      <th>35</th>\n      <td>Albania</td>\n      <td>2013</td>\n      <td>1.278103e+10</td>\n    </tr>\n    <tr>\n      <th>36</th>\n      <td>Algeria</td>\n      <td>2013</td>\n      <td>2.097035e+11</td>\n    </tr>\n    <tr>\n      <th>38</th>\n      <td>Andorra</td>\n      <td>2013</td>\n      <td>3.249101e+09</td>\n    </tr>\n    <tr>\n      <th>39</th>\n      <td>Angola</td>\n      <td>2013</td>\n      <td>1.383568e+11</td>\n    </tr>\n  </tbody>\n</table>\n</div>"
          },
          "metadata": {}
        }
      ]
    },
    {
      "cell_type": "markdown",
      "source": "The year column is discarded.",
      "metadata": {}
    },
    {
      "cell_type": "code",
      "source": "COUNTRY = 'country'\nheadings = [COUNTRY, GDP_INDICATOR]\ngdpClean = gdpData[headings]\nheadings = [COUNTRY, LIFE_INDICATOR]\nlifeClean = lifeData[headings]\nlifeClean.head()",
      "metadata": {
        "trusted": true
      },
      "execution_count": 33,
      "outputs": [
        {
          "execution_count": 33,
          "output_type": "execute_result",
          "data": {
            "text/plain": "                country  SP.DYN.LE00.IN\n34          Afghanistan       60.028268\n35              Albania       77.537244\n36              Algeria       74.568951\n39               Angola       51.866171\n40  Antigua and Barbuda       75.778659",
            "text/html": "<div>\n<style scoped>\n    .dataframe tbody tr th:only-of-type {\n        vertical-align: middle;\n    }\n\n    .dataframe tbody tr th {\n        vertical-align: top;\n    }\n\n    .dataframe thead th {\n        text-align: right;\n    }\n</style>\n<table border=\"1\" class=\"dataframe\">\n  <thead>\n    <tr style=\"text-align: right;\">\n      <th></th>\n      <th>country</th>\n      <th>SP.DYN.LE00.IN</th>\n    </tr>\n  </thead>\n  <tbody>\n    <tr>\n      <th>34</th>\n      <td>Afghanistan</td>\n      <td>60.028268</td>\n    </tr>\n    <tr>\n      <th>35</th>\n      <td>Albania</td>\n      <td>77.537244</td>\n    </tr>\n    <tr>\n      <th>36</th>\n      <td>Algeria</td>\n      <td>74.568951</td>\n    </tr>\n    <tr>\n      <th>39</th>\n      <td>Angola</td>\n      <td>51.866171</td>\n    </tr>\n    <tr>\n      <th>40</th>\n      <td>Antigua and Barbuda</td>\n      <td>75.778659</td>\n    </tr>\n  </tbody>\n</table>\n</div>"
          },
          "metadata": {}
        }
      ]
    },
    {
      "cell_type": "markdown",
      "source": "### Task\n\nClean the population dataframe you created in Exercise 7.\n\nIf in Exercise 7 you chose to directly get the population data from the World Bank instead of using the provided CSV file, you may need to remove more (or fewer) than 34 rows at the start of the dataframe due to changes done by the World Bank to its data reporting.",
      "metadata": {}
    },
    {
      "cell_type": "markdown",
      "source": "**Now go back to the course.**",
      "metadata": {}
    },
    {
      "cell_type": "markdown",
      "source": "## Exercise 9: Joining and transforming\n\nThe two dataframes can now be merged with an inner join.",
      "metadata": {}
    },
    {
      "cell_type": "code",
      "source": "gdpVsLifeAll = merge(gdpClean, lifeClean, on=COUNTRY, how='inner')\ngdpVsLifeAll.head()",
      "metadata": {
        "trusted": true
      },
      "execution_count": 34,
      "outputs": [
        {
          "execution_count": 34,
          "output_type": "execute_result",
          "data": {
            "text/plain": "               country  NY.GDP.MKTP.CD  SP.DYN.LE00.IN\n0          Afghanistan    2.045894e+10       60.028268\n1              Albania    1.278103e+10       77.537244\n2              Algeria    2.097035e+11       74.568951\n3               Angola    1.383568e+11       51.866171\n4  Antigua and Barbuda    1.200588e+09       75.778659",
            "text/html": "<div>\n<style scoped>\n    .dataframe tbody tr th:only-of-type {\n        vertical-align: middle;\n    }\n\n    .dataframe tbody tr th {\n        vertical-align: top;\n    }\n\n    .dataframe thead th {\n        text-align: right;\n    }\n</style>\n<table border=\"1\" class=\"dataframe\">\n  <thead>\n    <tr style=\"text-align: right;\">\n      <th></th>\n      <th>country</th>\n      <th>NY.GDP.MKTP.CD</th>\n      <th>SP.DYN.LE00.IN</th>\n    </tr>\n  </thead>\n  <tbody>\n    <tr>\n      <th>0</th>\n      <td>Afghanistan</td>\n      <td>2.045894e+10</td>\n      <td>60.028268</td>\n    </tr>\n    <tr>\n      <th>1</th>\n      <td>Albania</td>\n      <td>1.278103e+10</td>\n      <td>77.537244</td>\n    </tr>\n    <tr>\n      <th>2</th>\n      <td>Algeria</td>\n      <td>2.097035e+11</td>\n      <td>74.568951</td>\n    </tr>\n    <tr>\n      <th>3</th>\n      <td>Angola</td>\n      <td>1.383568e+11</td>\n      <td>51.866171</td>\n    </tr>\n    <tr>\n      <th>4</th>\n      <td>Antigua and Barbuda</td>\n      <td>1.200588e+09</td>\n      <td>75.778659</td>\n    </tr>\n  </tbody>\n</table>\n</div>"
          },
          "metadata": {}
        }
      ]
    },
    {
      "cell_type": "markdown",
      "source": "The dollars are converted to million pounds.",
      "metadata": {}
    },
    {
      "cell_type": "code",
      "source": "GDP = 'GDP (£m)'\ncolumn = gdpVsLifeAll[GDP_INDICATOR]\ngdpVsLifeAll[GDP] = column.apply(usdToGBP).apply(roundToMillions)\ngdpVsLifeAll.head()",
      "metadata": {
        "trusted": true
      },
      "execution_count": 35,
      "outputs": [
        {
          "execution_count": 35,
          "output_type": "execute_result",
          "data": {
            "text/plain": "               country  NY.GDP.MKTP.CD  SP.DYN.LE00.IN  GDP (£m)\n0          Afghanistan    2.045894e+10       60.028268     13075\n1              Albania    1.278103e+10       77.537244      8168\n2              Algeria    2.097035e+11       74.568951    134016\n3               Angola    1.383568e+11       51.866171     88420\n4  Antigua and Barbuda    1.200588e+09       75.778659       767",
            "text/html": "<div>\n<style scoped>\n    .dataframe tbody tr th:only-of-type {\n        vertical-align: middle;\n    }\n\n    .dataframe tbody tr th {\n        vertical-align: top;\n    }\n\n    .dataframe thead th {\n        text-align: right;\n    }\n</style>\n<table border=\"1\" class=\"dataframe\">\n  <thead>\n    <tr style=\"text-align: right;\">\n      <th></th>\n      <th>country</th>\n      <th>NY.GDP.MKTP.CD</th>\n      <th>SP.DYN.LE00.IN</th>\n      <th>GDP (£m)</th>\n    </tr>\n  </thead>\n  <tbody>\n    <tr>\n      <th>0</th>\n      <td>Afghanistan</td>\n      <td>2.045894e+10</td>\n      <td>60.028268</td>\n      <td>13075</td>\n    </tr>\n    <tr>\n      <th>1</th>\n      <td>Albania</td>\n      <td>1.278103e+10</td>\n      <td>77.537244</td>\n      <td>8168</td>\n    </tr>\n    <tr>\n      <th>2</th>\n      <td>Algeria</td>\n      <td>2.097035e+11</td>\n      <td>74.568951</td>\n      <td>134016</td>\n    </tr>\n    <tr>\n      <th>3</th>\n      <td>Angola</td>\n      <td>1.383568e+11</td>\n      <td>51.866171</td>\n      <td>88420</td>\n    </tr>\n    <tr>\n      <th>4</th>\n      <td>Antigua and Barbuda</td>\n      <td>1.200588e+09</td>\n      <td>75.778659</td>\n      <td>767</td>\n    </tr>\n  </tbody>\n</table>\n</div>"
          },
          "metadata": {}
        }
      ]
    },
    {
      "cell_type": "markdown",
      "source": "The life expectancy is rounded, by applying the `round()` function.",
      "metadata": {}
    },
    {
      "cell_type": "code",
      "source": "LIFE = 'Life expectancy (years)'\ngdpVsLifeAll[LIFE] = gdpVsLifeAll[LIFE_INDICATOR].apply(round)\ngdpVsLifeAll.head()",
      "metadata": {
        "trusted": true
      },
      "execution_count": 36,
      "outputs": [
        {
          "execution_count": 36,
          "output_type": "execute_result",
          "data": {
            "text/plain": "               country  NY.GDP.MKTP.CD  SP.DYN.LE00.IN  GDP (£m)  \\\n0          Afghanistan    2.045894e+10       60.028268     13075   \n1              Albania    1.278103e+10       77.537244      8168   \n2              Algeria    2.097035e+11       74.568951    134016   \n3               Angola    1.383568e+11       51.866171     88420   \n4  Antigua and Barbuda    1.200588e+09       75.778659       767   \n\n   Life expectancy (years)  \n0                       60  \n1                       78  \n2                       75  \n3                       52  \n4                       76  ",
            "text/html": "<div>\n<style scoped>\n    .dataframe tbody tr th:only-of-type {\n        vertical-align: middle;\n    }\n\n    .dataframe tbody tr th {\n        vertical-align: top;\n    }\n\n    .dataframe thead th {\n        text-align: right;\n    }\n</style>\n<table border=\"1\" class=\"dataframe\">\n  <thead>\n    <tr style=\"text-align: right;\">\n      <th></th>\n      <th>country</th>\n      <th>NY.GDP.MKTP.CD</th>\n      <th>SP.DYN.LE00.IN</th>\n      <th>GDP (£m)</th>\n      <th>Life expectancy (years)</th>\n    </tr>\n  </thead>\n  <tbody>\n    <tr>\n      <th>0</th>\n      <td>Afghanistan</td>\n      <td>2.045894e+10</td>\n      <td>60.028268</td>\n      <td>13075</td>\n      <td>60</td>\n    </tr>\n    <tr>\n      <th>1</th>\n      <td>Albania</td>\n      <td>1.278103e+10</td>\n      <td>77.537244</td>\n      <td>8168</td>\n      <td>78</td>\n    </tr>\n    <tr>\n      <th>2</th>\n      <td>Algeria</td>\n      <td>2.097035e+11</td>\n      <td>74.568951</td>\n      <td>134016</td>\n      <td>75</td>\n    </tr>\n    <tr>\n      <th>3</th>\n      <td>Angola</td>\n      <td>1.383568e+11</td>\n      <td>51.866171</td>\n      <td>88420</td>\n      <td>52</td>\n    </tr>\n    <tr>\n      <th>4</th>\n      <td>Antigua and Barbuda</td>\n      <td>1.200588e+09</td>\n      <td>75.778659</td>\n      <td>767</td>\n      <td>76</td>\n    </tr>\n  </tbody>\n</table>\n</div>"
          },
          "metadata": {}
        }
      ]
    },
    {
      "cell_type": "markdown",
      "source": "The original GDP and life expectancy columns are dropped.",
      "metadata": {}
    },
    {
      "cell_type": "code",
      "source": "headings = [COUNTRY, GDP, LIFE]\ngdpVsLifeClean = gdpVsLifeAll[headings]\ngdpVsLifeClean.head()",
      "metadata": {
        "trusted": true
      },
      "execution_count": 37,
      "outputs": [
        {
          "execution_count": 37,
          "output_type": "execute_result",
          "data": {
            "text/plain": "               country  GDP (£m)  Life expectancy (years)\n0          Afghanistan     13075                       60\n1              Albania      8168                       78\n2              Algeria    134016                       75\n3               Angola     88420                       52\n4  Antigua and Barbuda       767                       76",
            "text/html": "<div>\n<style scoped>\n    .dataframe tbody tr th:only-of-type {\n        vertical-align: middle;\n    }\n\n    .dataframe tbody tr th {\n        vertical-align: top;\n    }\n\n    .dataframe thead th {\n        text-align: right;\n    }\n</style>\n<table border=\"1\" class=\"dataframe\">\n  <thead>\n    <tr style=\"text-align: right;\">\n      <th></th>\n      <th>country</th>\n      <th>GDP (£m)</th>\n      <th>Life expectancy (years)</th>\n    </tr>\n  </thead>\n  <tbody>\n    <tr>\n      <th>0</th>\n      <td>Afghanistan</td>\n      <td>13075</td>\n      <td>60</td>\n    </tr>\n    <tr>\n      <th>1</th>\n      <td>Albania</td>\n      <td>8168</td>\n      <td>78</td>\n    </tr>\n    <tr>\n      <th>2</th>\n      <td>Algeria</td>\n      <td>134016</td>\n      <td>75</td>\n    </tr>\n    <tr>\n      <th>3</th>\n      <td>Angola</td>\n      <td>88420</td>\n      <td>52</td>\n    </tr>\n    <tr>\n      <th>4</th>\n      <td>Antigua and Barbuda</td>\n      <td>767</td>\n      <td>76</td>\n    </tr>\n  </tbody>\n</table>\n</div>"
          },
          "metadata": {}
        }
      ]
    },
    {
      "cell_type": "markdown",
      "source": "### Tasks\n\n1. Merge `gdpVsLifeClean` with the population dataframe obtained in the previous exercise. \n- Round the population value to the nearest million.\n- Remove the original population column.",
      "metadata": {}
    },
    {
      "cell_type": "markdown",
      "source": "**Now go back to the course.**",
      "metadata": {}
    },
    {
      "cell_type": "markdown",
      "source": "## Exercise 10: Correlation\n\nThe Spearman rank correlation coefficient between GDP and life expectancy, and the corresponding p-value are calculated as follows.",
      "metadata": {}
    },
    {
      "cell_type": "code",
      "source": "from scipy.stats import spearmanr\n\ngdpColumn = gdpVsLifeClean[GDP]\nlifeColumn = gdpVsLifeClean[LIFE]\n(correlation, pValue) = spearmanr(gdpColumn, lifeColumn)\nprint('The correlation is', correlation)\nif pValue < 0.05:\n    print('It is statistically significant.')\nelse:\n    print('It is not statistically significant.')",
      "metadata": {
        "trusted": true
      },
      "execution_count": 38,
      "outputs": [
        {
          "name": "stdout",
          "text": "The correlation is 0.5010232389671027\nIt is statistically significant.\n",
          "output_type": "stream"
        }
      ]
    },
    {
      "cell_type": "markdown",
      "source": "### Task\n\nCalculate the correlation between GDP and population.",
      "metadata": {}
    },
    {
      "cell_type": "markdown",
      "source": "**Now go back to the course.**",
      "metadata": {}
    },
    {
      "cell_type": "markdown",
      "source": "## Exercise 11: Scatterplots\n\nThe dataframe method `plot()` can also produce scatterplots. The `logx` and `logy` arguments  set a logarithmic scale on the corresponding axis.",
      "metadata": {}
    },
    {
      "cell_type": "code",
      "source": "gdpVsLifeClean.plot(x=GDP, y=LIFE, kind='scatter', grid=True, logx=True, figsize = (10, 4))",
      "metadata": {
        "trusted": true
      },
      "execution_count": 41,
      "outputs": [
        {
          "execution_count": 41,
          "output_type": "execute_result",
          "data": {
            "text/plain": "<AxesSubplot:xlabel='GDP (£m)', ylabel='Life expectancy (years)'>"
          },
          "metadata": {}
        },
        {
          "output_type": "display_data",
          "data": {
            "text/plain": "<Figure size 1000x400 with 1 Axes>",
            "image/png": "[encoded data removed]"
          },
          "metadata": {}
        }
      ]
    },
    {
      "cell_type": "markdown",
      "source": "### Tasks\n\n- Swap the axes of the scatterplot, i.e. show the GDP in the y axis and the life expectancy in the x axis.\n- Display a scatterplot of the GDP and the population.",
      "metadata": {}
    },
    {
      "cell_type": "markdown",
      "source": "**Now go back to the course.**",
      "metadata": {}
    }
  ]
}