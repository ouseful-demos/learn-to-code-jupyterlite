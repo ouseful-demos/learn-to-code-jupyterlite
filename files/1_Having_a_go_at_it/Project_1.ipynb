{
  "metadata": {
    "kernelspec": {
      "name": "python",
      "display_name": "Python (Pyodide)",
      "language": "python"
    },
    "language_info": {
      "codemirror_mode": {
        "name": "python",
        "version": 3
      },
      "file_extension": ".py",
      "mimetype": "text/x-python",
      "name": "python",
      "nbconvert_exporter": "python",
      "pygments_lexer": "ipython3",
      "version": "3.8"
    }
  },
  "nbformat_minor": 4,
  "nbformat": 4,
  "cells": [
    {
      "cell_type": "markdown",
      "source": "# Project 1: Deaths by tuberculosis\n\nby Michel Wermelinger, 14 July 2015, edited 5 April 2016, updated 18 October and 20 December 2017 \n\nThis is the project notebook for the first part of The Open University's _Learn to code for Data Analysis_ course.\n\nIn 2000, the United Nations set eight Millenium Development Goals (MDGs) to reduce poverty and diseases, improve gender equality and environmental sustainability, etc. Each goal is quantified and time-bound, to be achieved by the end of 2015. Goal 6 is to have halted and started reversing the spread of HIV, malaria and tuberculosis (TB).\nTB doesn't make headlines like Ebola, SARS (severe acute respiratory syndrome) and other epidemics, but is far deadlier. For more information, see the World Health Organisation (WHO) page <http://www.who.int/gho/tb/en/>.\n\nGiven the population and number of deaths due to TB in some countries during one year, the following questions will be answered: \n\n- What is the total, maximum, minimum and average number of deaths in that year?\n- Which countries have the most and the least deaths?\n- What is the death rate (deaths per 100,000 inhabitants) for each country?\n- Which countries have the lowest and highest death rate?\n\nThe death rate allows for a better comparison of countries with widely different population sizes.",
      "metadata": {}
    },
    {
      "cell_type": "markdown",
      "source": "## The data\n\nThe data consists of total population and total number of deaths due to TB (excluding HIV) in 2013 in each of the BRICS (Brazil, Russia, India, China, South Africa) and Portuguese-speaking countries. \n\nThe data was taken in July 2015 from <http://apps.who.int/gho/data/node.main.POP107?lang=en> (population) and <http://apps.who.int/gho/data/node.main.1317?lang=en> (deaths). The uncertainty bounds of the number of deaths were ignored.\n\nThe data was collected into an Excel file which should be in the same folder as this notebook.",
      "metadata": {}
    },
    {
      "cell_type": "code",
      "source": "%pip install xlrd\nfrom pandas import *\ndata = read_excel('WHO POP TB some.xls')\ndata",
      "metadata": {
        "trusted": true
      },
      "execution_count": 1,
      "outputs": [
        {
          "execution_count": 1,
          "output_type": "execute_result",
          "data": {
            "text/plain": "                  Country  Population (1000s)  TB deaths\n0                  Angola               21472       6900\n1                  Brazil              200362       4400\n2                   China             1393337      41000\n3       Equatorial Guinea                 757         67\n4           Guinea-Bissau                1704       1200\n5                   India             1252140     240000\n6              Mozambique               25834      18000\n7                Portugal               10608        140\n8      Russian Federation              142834      17000\n9   Sao Tome and Principe                 193         18\n10           South Africa               52776      25000\n11            Timor-Leste                1133        990",
            "text/html": "<div>\n<style scoped>\n    .dataframe tbody tr th:only-of-type {\n        vertical-align: middle;\n    }\n\n    .dataframe tbody tr th {\n        vertical-align: top;\n    }\n\n    .dataframe thead th {\n        text-align: right;\n    }\n</style>\n<table border=\"1\" class=\"dataframe\">\n  <thead>\n    <tr style=\"text-align: right;\">\n      <th></th>\n      <th>Country</th>\n      <th>Population (1000s)</th>\n      <th>TB deaths</th>\n    </tr>\n  </thead>\n  <tbody>\n    <tr>\n      <th>0</th>\n      <td>Angola</td>\n      <td>21472</td>\n      <td>6900</td>\n    </tr>\n    <tr>\n      <th>1</th>\n      <td>Brazil</td>\n      <td>200362</td>\n      <td>4400</td>\n    </tr>\n    <tr>\n      <th>2</th>\n      <td>China</td>\n      <td>1393337</td>\n      <td>41000</td>\n    </tr>\n    <tr>\n      <th>3</th>\n      <td>Equatorial Guinea</td>\n      <td>757</td>\n      <td>67</td>\n    </tr>\n    <tr>\n      <th>4</th>\n      <td>Guinea-Bissau</td>\n      <td>1704</td>\n      <td>1200</td>\n    </tr>\n    <tr>\n      <th>5</th>\n      <td>India</td>\n      <td>1252140</td>\n      <td>240000</td>\n    </tr>\n    <tr>\n      <th>6</th>\n      <td>Mozambique</td>\n      <td>25834</td>\n      <td>18000</td>\n    </tr>\n    <tr>\n      <th>7</th>\n      <td>Portugal</td>\n      <td>10608</td>\n      <td>140</td>\n    </tr>\n    <tr>\n      <th>8</th>\n      <td>Russian Federation</td>\n      <td>142834</td>\n      <td>17000</td>\n    </tr>\n    <tr>\n      <th>9</th>\n      <td>Sao Tome and Principe</td>\n      <td>193</td>\n      <td>18</td>\n    </tr>\n    <tr>\n      <th>10</th>\n      <td>South Africa</td>\n      <td>52776</td>\n      <td>25000</td>\n    </tr>\n    <tr>\n      <th>11</th>\n      <td>Timor-Leste</td>\n      <td>1133</td>\n      <td>990</td>\n    </tr>\n  </tbody>\n</table>\n</div>"
          },
          "metadata": {}
        }
      ]
    },
    {
      "cell_type": "markdown",
      "source": "## The range of the problem\n\nThe column of interest is the last one.",
      "metadata": {}
    },
    {
      "cell_type": "code",
      "source": "tbColumn = data['TB deaths']",
      "metadata": {
        "trusted": true
      },
      "execution_count": 2,
      "outputs": []
    },
    {
      "cell_type": "markdown",
      "source": "The total number of deaths in 2013 is:",
      "metadata": {}
    },
    {
      "cell_type": "code",
      "source": "tbColumn.sum()",
      "metadata": {
        "trusted": true
      },
      "execution_count": 3,
      "outputs": [
        {
          "execution_count": 3,
          "output_type": "execute_result",
          "data": {
            "text/plain": "354715"
          },
          "metadata": {}
        }
      ]
    },
    {
      "cell_type": "markdown",
      "source": "The largest and smallest number of deaths in a single country are:",
      "metadata": {}
    },
    {
      "cell_type": "code",
      "source": "tbColumn.max()",
      "metadata": {
        "trusted": true
      },
      "execution_count": 4,
      "outputs": [
        {
          "execution_count": 4,
          "output_type": "execute_result",
          "data": {
            "text/plain": "240000"
          },
          "metadata": {}
        }
      ]
    },
    {
      "cell_type": "code",
      "source": "tbColumn.min()",
      "metadata": {
        "trusted": true
      },
      "execution_count": 5,
      "outputs": [
        {
          "execution_count": 5,
          "output_type": "execute_result",
          "data": {
            "text/plain": "18"
          },
          "metadata": {}
        }
      ]
    },
    {
      "cell_type": "markdown",
      "source": "From less than 20 to almost a quarter of a million deaths is a huge range. The average number of deaths, over all countries in the data, can give a better idea of the seriousness of the problem in each country.\nThe average can be computed as the mean or the median. Given the wide range of deaths, the median is probably a more sensible average measure.",
      "metadata": {}
    },
    {
      "cell_type": "code",
      "source": "tbColumn.mean()",
      "metadata": {
        "trusted": true
      },
      "execution_count": 6,
      "outputs": [
        {
          "execution_count": 6,
          "output_type": "execute_result",
          "data": {
            "text/plain": "29559.583333333332"
          },
          "metadata": {}
        }
      ]
    },
    {
      "cell_type": "code",
      "source": "tbColumn.median()",
      "metadata": {
        "trusted": true
      },
      "execution_count": 7,
      "outputs": [
        {
          "execution_count": 7,
          "output_type": "execute_result",
          "data": {
            "text/plain": "5650.0"
          },
          "metadata": {}
        }
      ]
    },
    {
      "cell_type": "markdown",
      "source": "The median is far lower than the mean. This indicates that some of the countries had a very high number of TB deaths in 2013, pushing the value of the mean up.",
      "metadata": {}
    },
    {
      "cell_type": "markdown",
      "source": "## The most affected\n\nTo see the most affected countries, the table is sorted in ascending order by the last column, which puts those countries in the last rows.",
      "metadata": {}
    },
    {
      "cell_type": "code",
      "source": "data.sort_values('TB deaths')",
      "metadata": {
        "trusted": true
      },
      "execution_count": 8,
      "outputs": [
        {
          "execution_count": 8,
          "output_type": "execute_result",
          "data": {
            "text/plain": "                  Country  Population (1000s)  TB deaths\n9   Sao Tome and Principe                 193         18\n3       Equatorial Guinea                 757         67\n7                Portugal               10608        140\n11            Timor-Leste                1133        990\n4           Guinea-Bissau                1704       1200\n1                  Brazil              200362       4400\n0                  Angola               21472       6900\n8      Russian Federation              142834      17000\n6              Mozambique               25834      18000\n10           South Africa               52776      25000\n2                   China             1393337      41000\n5                   India             1252140     240000",
            "text/html": "<div>\n<style scoped>\n    .dataframe tbody tr th:only-of-type {\n        vertical-align: middle;\n    }\n\n    .dataframe tbody tr th {\n        vertical-align: top;\n    }\n\n    .dataframe thead th {\n        text-align: right;\n    }\n</style>\n<table border=\"1\" class=\"dataframe\">\n  <thead>\n    <tr style=\"text-align: right;\">\n      <th></th>\n      <th>Country</th>\n      <th>Population (1000s)</th>\n      <th>TB deaths</th>\n    </tr>\n  </thead>\n  <tbody>\n    <tr>\n      <th>9</th>\n      <td>Sao Tome and Principe</td>\n      <td>193</td>\n      <td>18</td>\n    </tr>\n    <tr>\n      <th>3</th>\n      <td>Equatorial Guinea</td>\n      <td>757</td>\n      <td>67</td>\n    </tr>\n    <tr>\n      <th>7</th>\n      <td>Portugal</td>\n      <td>10608</td>\n      <td>140</td>\n    </tr>\n    <tr>\n      <th>11</th>\n      <td>Timor-Leste</td>\n      <td>1133</td>\n      <td>990</td>\n    </tr>\n    <tr>\n      <th>4</th>\n      <td>Guinea-Bissau</td>\n      <td>1704</td>\n      <td>1200</td>\n    </tr>\n    <tr>\n      <th>1</th>\n      <td>Brazil</td>\n      <td>200362</td>\n      <td>4400</td>\n    </tr>\n    <tr>\n      <th>0</th>\n      <td>Angola</td>\n      <td>21472</td>\n      <td>6900</td>\n    </tr>\n    <tr>\n      <th>8</th>\n      <td>Russian Federation</td>\n      <td>142834</td>\n      <td>17000</td>\n    </tr>\n    <tr>\n      <th>6</th>\n      <td>Mozambique</td>\n      <td>25834</td>\n      <td>18000</td>\n    </tr>\n    <tr>\n      <th>10</th>\n      <td>South Africa</td>\n      <td>52776</td>\n      <td>25000</td>\n    </tr>\n    <tr>\n      <th>2</th>\n      <td>China</td>\n      <td>1393337</td>\n      <td>41000</td>\n    </tr>\n    <tr>\n      <th>5</th>\n      <td>India</td>\n      <td>1252140</td>\n      <td>240000</td>\n    </tr>\n  </tbody>\n</table>\n</div>"
          },
          "metadata": {}
        }
      ]
    },
    {
      "cell_type": "markdown",
      "source": "The table raises the possibility that a large number of deaths may be partly due to a large population. To compare the countries on an equal footing, the death rate per 100,000 inhabitants is computed.",
      "metadata": {}
    },
    {
      "cell_type": "code",
      "source": "populationColumn = data['Population (1000s)']\ndata['TB deaths (per 100,000)'] = tbColumn * 100 / populationColumn\ndata",
      "metadata": {
        "trusted": true
      },
      "execution_count": 9,
      "outputs": [
        {
          "execution_count": 9,
          "output_type": "execute_result",
          "data": {
            "text/plain": "                  Country  Population (1000s)  TB deaths  \\\n0                  Angola               21472       6900   \n1                  Brazil              200362       4400   \n2                   China             1393337      41000   \n3       Equatorial Guinea                 757         67   \n4           Guinea-Bissau                1704       1200   \n5                   India             1252140     240000   \n6              Mozambique               25834      18000   \n7                Portugal               10608        140   \n8      Russian Federation              142834      17000   \n9   Sao Tome and Principe                 193         18   \n10           South Africa               52776      25000   \n11            Timor-Leste                1133        990   \n\n    TB deaths (per 100,000)  \n0                 32.134873  \n1                  2.196025  \n2                  2.942576  \n3                  8.850727  \n4                 70.422535  \n5                 19.167186  \n6                 69.675621  \n7                  1.319759  \n8                 11.901928  \n9                  9.326425  \n10                47.370017  \n11                87.378641  ",
            "text/html": "<div>\n<style scoped>\n    .dataframe tbody tr th:only-of-type {\n        vertical-align: middle;\n    }\n\n    .dataframe tbody tr th {\n        vertical-align: top;\n    }\n\n    .dataframe thead th {\n        text-align: right;\n    }\n</style>\n<table border=\"1\" class=\"dataframe\">\n  <thead>\n    <tr style=\"text-align: right;\">\n      <th></th>\n      <th>Country</th>\n      <th>Population (1000s)</th>\n      <th>TB deaths</th>\n      <th>TB deaths (per 100,000)</th>\n    </tr>\n  </thead>\n  <tbody>\n    <tr>\n      <th>0</th>\n      <td>Angola</td>\n      <td>21472</td>\n      <td>6900</td>\n      <td>32.134873</td>\n    </tr>\n    <tr>\n      <th>1</th>\n      <td>Brazil</td>\n      <td>200362</td>\n      <td>4400</td>\n      <td>2.196025</td>\n    </tr>\n    <tr>\n      <th>2</th>\n      <td>China</td>\n      <td>1393337</td>\n      <td>41000</td>\n      <td>2.942576</td>\n    </tr>\n    <tr>\n      <th>3</th>\n      <td>Equatorial Guinea</td>\n      <td>757</td>\n      <td>67</td>\n      <td>8.850727</td>\n    </tr>\n    <tr>\n      <th>4</th>\n      <td>Guinea-Bissau</td>\n      <td>1704</td>\n      <td>1200</td>\n      <td>70.422535</td>\n    </tr>\n    <tr>\n      <th>5</th>\n      <td>India</td>\n      <td>1252140</td>\n      <td>240000</td>\n      <td>19.167186</td>\n    </tr>\n    <tr>\n      <th>6</th>\n      <td>Mozambique</td>\n      <td>25834</td>\n      <td>18000</td>\n      <td>69.675621</td>\n    </tr>\n    <tr>\n      <th>7</th>\n      <td>Portugal</td>\n      <td>10608</td>\n      <td>140</td>\n      <td>1.319759</td>\n    </tr>\n    <tr>\n      <th>8</th>\n      <td>Russian Federation</td>\n      <td>142834</td>\n      <td>17000</td>\n      <td>11.901928</td>\n    </tr>\n    <tr>\n      <th>9</th>\n      <td>Sao Tome and Principe</td>\n      <td>193</td>\n      <td>18</td>\n      <td>9.326425</td>\n    </tr>\n    <tr>\n      <th>10</th>\n      <td>South Africa</td>\n      <td>52776</td>\n      <td>25000</td>\n      <td>47.370017</td>\n    </tr>\n    <tr>\n      <th>11</th>\n      <td>Timor-Leste</td>\n      <td>1133</td>\n      <td>990</td>\n      <td>87.378641</td>\n    </tr>\n  </tbody>\n</table>\n</div>"
          },
          "metadata": {}
        }
      ]
    },
    {
      "cell_type": "markdown",
      "source": "## Conclusions\n\nThe BRICS and Portuguese-speaking countries had a total of about 350 thousand deaths due to TB in 2013. The median shows that half of these coutries had fewer than 5,650 deaths. The much higher mean (over 29,000) indicates that some countries had a very high number. The least affected were Sao Tome and Principe and Equatorial Guinea, with 18 and 67 deaths respectively, and the most affected were China and India with 41 thousand and 240 thousand deaths in a single year. However, taking the population size into account, the least affected were Portugal and Brazil with less than 2.2 deaths per 100 thousand inhabitants, and the most affected were Guinea-Bissau and East Timor with over 70 deaths per 100,000 inhabitants.\n\nOne should not forget that most values are estimates, and that the chosen countries are a small sample of all the world's countries. Nevertheless, they convey the message that TB is still a major cause of fatalities, and that there is a huge disparity between countries, with several ones being highly affected.",
      "metadata": {}
    }
  ]
}