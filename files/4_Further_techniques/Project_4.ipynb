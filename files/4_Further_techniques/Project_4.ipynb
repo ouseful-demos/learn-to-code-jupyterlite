{
  "metadata": {
    "kernelspec": {
      "name": "python",
      "display_name": "Python (Pyodide)",
      "language": "python"
    },
    "language_info": {
      "codemirror_mode": {
        "name": "python",
        "version": 3
      },
      "file_extension": ".py",
      "mimetype": "text/x-python",
      "name": "python",
      "nbconvert_exporter": "python",
      "pygments_lexer": "ipython3",
      "version": "3.8"
    }
  },
  "nbformat_minor": 4,
  "nbformat": 4,
  "cells": [
    {
      "cell_type": "markdown",
      "source": "## Project 4: Exploring the UK's milk imports and exports\n\nby Tony Hirst and Michel Wermelinger, 19 November 2015, 28 March 2016, 18 October 2017, minor edit 20 December 2017\n\nThis is the project notebook for Part 4 of The Open University's _Learn to Code for Data Analysis_ course.",
      "metadata": {}
    },
    {
      "cell_type": "markdown",
      "source": "A country's economy depends, sometimes heavily, on its exports and imports. The United Nations Comtrade database provides data on global trade. It will be used to analyse the UK's imports and exports of milk and cream in 2015:\n\n- How much does the UK export and import and is the balance positive (more exports than imports)? \n- Which are the main trading partners, i.e. from/to which countries does the UK import/export the most?\n- Which are the regular customers, i.e. which countries buy milk from the UK every month?\n- Which countries does the UK both import from and export to?",
      "metadata": {}
    },
    {
      "cell_type": "code",
      "source": "%pip install --quiet matplotlib\nfrom pandas import *",
      "metadata": {
        "activity": false,
        "trusted": true
      },
      "execution_count": 1,
      "outputs": []
    },
    {
      "cell_type": "markdown",
      "source": "## Getting and preparing the data\n\nThe data is obtained from the [United Nations Comtrade](http://comtrade.un.org/data/) website, by selecting the following configuration:\n\n- Type of Product: goods\n- Frequency: monthly \n- Periods: January to May of 2015\n- Reporter: United Kingdom\n- Partners: all\n- Flows: imports and exports\n- HS (as reported) commodity codes: 0401 (Milk and cream, neither concentrated nor sweetened) and 0402 (Milk and cream, concentrated or sweetened)\n\nClicking on 'Preview' results in a message that the data exceeds 500 rows. Data was downloaded using the *Download CSV* button and the download file renamed appropriately.",
      "metadata": {}
    },
    {
      "cell_type": "code",
      "source": "LOCATION = 'comtrade_milk_uk_jan_jul_15.csv'",
      "metadata": {
        "trusted": true
      },
      "execution_count": 2,
      "outputs": []
    },
    {
      "cell_type": "markdown",
      "source": "The data can also be downloaded directly from Comtrade using the \"View API Call\" URL, modified in two ways:\n\n- `max=500` is increased to `max=5000` to make sure all data is loaded,\n- `&fmt=csv` is added at the end to obtain the data in CSV format.",
      "metadata": {}
    },
    {
      "cell_type": "code",
      "source": "# LOCATION = 'http://comtrade.un.org/api/get?max=5000&type=C&freq=M&px=HS&ps=201505%2C201504%2C201503%2C201502%2C201501&r=826&p=all&rg=1%2C2&cc=0401%2C0402&fmt=csv'",
      "metadata": {
        "trusted": true
      },
      "execution_count": 3,
      "outputs": []
    },
    {
      "cell_type": "markdown",
      "source": "On reading in the data, the commodity code has to be read as a string, to not lose the leading zero.",
      "metadata": {}
    },
    {
      "cell_type": "code",
      "source": "milk = read_csv(LOCATION, dtype={'Commodity Code':str})\nmilk.tail(2)",
      "metadata": {
        "activity": false,
        "trusted": true
      },
      "execution_count": 4,
      "outputs": [
        {
          "execution_count": 4,
          "output_type": "execute_result",
          "data": {
            "text/plain": "    Classification  Year  Period Period Desc.  Aggregate Level  Is Leaf Code  \\\n635             HS  2015  201505     May 2015                4             0   \n636             HS  2015  201505     May 2015                4             0   \n\n     Trade Flow Code Trade Flow  Reporter Code        Reporter  ...  Qty  \\\n635                2    Exports            826  United Kingdom  ...  NaN   \n636                2    Exports            826  United Kingdom  ...  NaN   \n\n     Alt Qty Unit Code Alt Qty Unit  Alt Qty  Netweight (kg)  \\\n635                NaN          NaN      NaN            2213   \n636                NaN          NaN      NaN            1588   \n\n     Gross weight (kg)  Trade Value (US$)  CIF Trade Value (US$)  \\\n635                NaN              37883                    NaN   \n636                NaN               5676                    NaN   \n\n     FOB Trade Value (US$)  Flag  \n635                    NaN     0  \n636                    NaN     0  \n\n[2 rows x 35 columns]",
            "text/html": "<div>\n<style scoped>\n    .dataframe tbody tr th:only-of-type {\n        vertical-align: middle;\n    }\n\n    .dataframe tbody tr th {\n        vertical-align: top;\n    }\n\n    .dataframe thead th {\n        text-align: right;\n    }\n</style>\n<table border=\"1\" class=\"dataframe\">\n  <thead>\n    <tr style=\"text-align: right;\">\n      <th></th>\n      <th>Classification</th>\n      <th>Year</th>\n      <th>Period</th>\n      <th>Period Desc.</th>\n      <th>Aggregate Level</th>\n      <th>Is Leaf Code</th>\n      <th>Trade Flow Code</th>\n      <th>Trade Flow</th>\n      <th>Reporter Code</th>\n      <th>Reporter</th>\n      <th>...</th>\n      <th>Qty</th>\n      <th>Alt Qty Unit Code</th>\n      <th>Alt Qty Unit</th>\n      <th>Alt Qty</th>\n      <th>Netweight (kg)</th>\n      <th>Gross weight (kg)</th>\n      <th>Trade Value (US$)</th>\n      <th>CIF Trade Value (US$)</th>\n      <th>FOB Trade Value (US$)</th>\n      <th>Flag</th>\n    </tr>\n  </thead>\n  <tbody>\n    <tr>\n      <th>635</th>\n      <td>HS</td>\n      <td>2015</td>\n      <td>201505</td>\n      <td>May 2015</td>\n      <td>4</td>\n      <td>0</td>\n      <td>2</td>\n      <td>Exports</td>\n      <td>826</td>\n      <td>United Kingdom</td>\n      <td>...</td>\n      <td>NaN</td>\n      <td>NaN</td>\n      <td>NaN</td>\n      <td>NaN</td>\n      <td>2213</td>\n      <td>NaN</td>\n      <td>37883</td>\n      <td>NaN</td>\n      <td>NaN</td>\n      <td>0</td>\n    </tr>\n    <tr>\n      <th>636</th>\n      <td>HS</td>\n      <td>2015</td>\n      <td>201505</td>\n      <td>May 2015</td>\n      <td>4</td>\n      <td>0</td>\n      <td>2</td>\n      <td>Exports</td>\n      <td>826</td>\n      <td>United Kingdom</td>\n      <td>...</td>\n      <td>NaN</td>\n      <td>NaN</td>\n      <td>NaN</td>\n      <td>NaN</td>\n      <td>1588</td>\n      <td>NaN</td>\n      <td>5676</td>\n      <td>NaN</td>\n      <td>NaN</td>\n      <td>0</td>\n    </tr>\n  </tbody>\n</table>\n<p>2 rows × 35 columns</p>\n</div>"
          },
          "metadata": {}
        }
      ]
    },
    {
      "cell_type": "markdown",
      "source": "The data only covers the first five months of 2015. Most columns are irrelevant for this analysis, or contain always the same value, like the year and reporter columns. The commodity code is transformed into a short but descriptive text and only the relevant columns are selected.",
      "metadata": {}
    },
    {
      "cell_type": "code",
      "source": "def milkType(code):\n    if code == '0401': # neither concentrated nor sweetened\n        return 'unprocessed'\n    if code == '0402': # concentrated or sweetened\n        return 'processed' \n    return 'unknown'\n\nCOMMODITY = 'Milk and cream'\nmilk[COMMODITY] = milk['Commodity Code'].apply(milkType)\nMONTH = 'Period'\nPARTNER = 'Partner'\nFLOW = 'Trade Flow'\nVALUE = 'Trade Value (US$)'\nheadings = [MONTH, PARTNER, FLOW, COMMODITY, VALUE]\nmilk = milk[headings]\nmilk.head()",
      "metadata": {
        "activity": false,
        "trusted": true
      },
      "execution_count": 5,
      "outputs": [
        {
          "execution_count": 5,
          "output_type": "execute_result",
          "data": {
            "text/plain": "   Period    Partner Trade Flow Milk and cream  Trade Value (US$)\n0  201501      World    Imports    unprocessed           14104602\n1  201501      World    Exports    unprocessed           26259792\n2  201501  Australia    Exports    unprocessed              50331\n3  201501    Austria    Exports    unprocessed                360\n4  201501    Belgium    Imports    unprocessed            1424271",
            "text/html": "<div>\n<style scoped>\n    .dataframe tbody tr th:only-of-type {\n        vertical-align: middle;\n    }\n\n    .dataframe tbody tr th {\n        vertical-align: top;\n    }\n\n    .dataframe thead th {\n        text-align: right;\n    }\n</style>\n<table border=\"1\" class=\"dataframe\">\n  <thead>\n    <tr style=\"text-align: right;\">\n      <th></th>\n      <th>Period</th>\n      <th>Partner</th>\n      <th>Trade Flow</th>\n      <th>Milk and cream</th>\n      <th>Trade Value (US$)</th>\n    </tr>\n  </thead>\n  <tbody>\n    <tr>\n      <th>0</th>\n      <td>201501</td>\n      <td>World</td>\n      <td>Imports</td>\n      <td>unprocessed</td>\n      <td>14104602</td>\n    </tr>\n    <tr>\n      <th>1</th>\n      <td>201501</td>\n      <td>World</td>\n      <td>Exports</td>\n      <td>unprocessed</td>\n      <td>26259792</td>\n    </tr>\n    <tr>\n      <th>2</th>\n      <td>201501</td>\n      <td>Australia</td>\n      <td>Exports</td>\n      <td>unprocessed</td>\n      <td>50331</td>\n    </tr>\n    <tr>\n      <th>3</th>\n      <td>201501</td>\n      <td>Austria</td>\n      <td>Exports</td>\n      <td>unprocessed</td>\n      <td>360</td>\n    </tr>\n    <tr>\n      <th>4</th>\n      <td>201501</td>\n      <td>Belgium</td>\n      <td>Imports</td>\n      <td>unprocessed</td>\n      <td>1424271</td>\n    </tr>\n  </tbody>\n</table>\n</div>"
          },
          "metadata": {}
        }
      ]
    },
    {
      "cell_type": "markdown",
      "source": "The data contains the total imports and exports per month, under the 'World' partner. Those rows are removed to keep only the per-country data.",
      "metadata": {}
    },
    {
      "cell_type": "code",
      "source": "milk = milk[milk[PARTNER] != 'World']\nmilk.head()",
      "metadata": {
        "activity": false,
        "trusted": true
      },
      "execution_count": 6,
      "outputs": [
        {
          "execution_count": 6,
          "output_type": "execute_result",
          "data": {
            "text/plain": "   Period    Partner Trade Flow Milk and cream  Trade Value (US$)\n2  201501  Australia    Exports    unprocessed              50331\n3  201501    Austria    Exports    unprocessed                360\n4  201501    Belgium    Imports    unprocessed            1424271\n5  201501    Belgium    Exports    unprocessed             996031\n6  201501   Bulgaria    Exports    unprocessed                191",
            "text/html": "<div>\n<style scoped>\n    .dataframe tbody tr th:only-of-type {\n        vertical-align: middle;\n    }\n\n    .dataframe tbody tr th {\n        vertical-align: top;\n    }\n\n    .dataframe thead th {\n        text-align: right;\n    }\n</style>\n<table border=\"1\" class=\"dataframe\">\n  <thead>\n    <tr style=\"text-align: right;\">\n      <th></th>\n      <th>Period</th>\n      <th>Partner</th>\n      <th>Trade Flow</th>\n      <th>Milk and cream</th>\n      <th>Trade Value (US$)</th>\n    </tr>\n  </thead>\n  <tbody>\n    <tr>\n      <th>2</th>\n      <td>201501</td>\n      <td>Australia</td>\n      <td>Exports</td>\n      <td>unprocessed</td>\n      <td>50331</td>\n    </tr>\n    <tr>\n      <th>3</th>\n      <td>201501</td>\n      <td>Austria</td>\n      <td>Exports</td>\n      <td>unprocessed</td>\n      <td>360</td>\n    </tr>\n    <tr>\n      <th>4</th>\n      <td>201501</td>\n      <td>Belgium</td>\n      <td>Imports</td>\n      <td>unprocessed</td>\n      <td>1424271</td>\n    </tr>\n    <tr>\n      <th>5</th>\n      <td>201501</td>\n      <td>Belgium</td>\n      <td>Exports</td>\n      <td>unprocessed</td>\n      <td>996031</td>\n    </tr>\n    <tr>\n      <th>6</th>\n      <td>201501</td>\n      <td>Bulgaria</td>\n      <td>Exports</td>\n      <td>unprocessed</td>\n      <td>191</td>\n    </tr>\n  </tbody>\n</table>\n</div>"
          },
          "metadata": {}
        }
      ]
    },
    {
      "cell_type": "markdown",
      "source": "## Total trade flow\n\nTo answer the first question, 'how much does the UK export and import and is the balance positive (more exports than imports)?',\nthe dataframe is split into two groups: exports from the UK and imports into the UK. The  trade values within each group are summed up to get the total trading.",
      "metadata": {}
    },
    {
      "cell_type": "code",
      "source": "grouped = milk.groupby([FLOW])\ngrouped[VALUE].aggregate(sum)",
      "metadata": {
        "activity": false,
        "trusted": true
      },
      "execution_count": 7,
      "outputs": [
        {
          "execution_count": 7,
          "output_type": "execute_result",
          "data": {
            "text/plain": "Trade Flow\nExports    265029661\nImports    156483978\nName: Trade Value (US$), dtype: int64"
          },
          "metadata": {}
        }
      ]
    },
    {
      "cell_type": "markdown",
      "source": "This shows a trade surplus of over 100 million dollars.",
      "metadata": {}
    },
    {
      "cell_type": "markdown",
      "source": "## Main trade partners\n\nTo address the second question, 'Which are the main trading partners, i.e. from/to which countries does the UK import/export the most?', the dataframe is split by country instead, and then each group aggregated for the total trade value. This is done separately for imports and exports. The result is sorted in descending order so that the main partners are at the top.",
      "metadata": {}
    },
    {
      "cell_type": "code",
      "source": "imports = milk[milk[FLOW] == 'Imports']\ngrouped = imports.groupby([PARTNER])\nprint('The UK imports from', len(grouped), 'countries.')\nprint('The 5 biggest exporters to the UK are:')\ntotalImports = grouped[VALUE].aggregate(sum).sort_values(inplace=False,ascending=False)\ntotalImports.head()",
      "metadata": {
        "activity": false,
        "trusted": true
      },
      "execution_count": 8,
      "outputs": [
        {
          "name": "stdout",
          "text": "The UK imports from 21 countries.\nThe 5 biggest exporters to the UK are:\n",
          "output_type": "stream"
        },
        {
          "execution_count": 8,
          "output_type": "execute_result",
          "data": {
            "text/plain": "Partner\nIreland        46263897\nFrance         28314091\nGermany        21899123\nNetherlands    17658912\nBelgium        14325697\nName: Trade Value (US$), dtype: int64"
          },
          "metadata": {}
        }
      ]
    },
    {
      "cell_type": "markdown",
      "source": "The export values can be plotted as a bar chart, making differences between countries easier to see.",
      "metadata": {}
    },
    {
      "cell_type": "code",
      "source": "totalImports.head(10).plot(kind='barh')",
      "metadata": {
        "trusted": true
      },
      "execution_count": 9,
      "outputs": [
        {
          "execution_count": 9,
          "output_type": "execute_result",
          "data": {
            "text/plain": "<AxesSubplot:ylabel='Partner'>"
          },
          "metadata": {}
        },
        {
          "output_type": "display_data",
          "data": {
            "text/plain": "<Figure size 640x480 with 1 Axes>",
            "image/png": "[encoded data removed]"
          },
          "metadata": {}
        }
      ]
    },
    {
      "cell_type": "code",
      "source": "exports = milk[milk[FLOW] == 'Exports']\ngrouped = exports.groupby([PARTNER])\nprint('The UK exports to', len(grouped), 'countries.')\nprint('The 5 biggest importers from the UK are:')\ngrouped[VALUE].aggregate(sum).sort_values(ascending=False,inplace=False).head()",
      "metadata": {
        "activity": false,
        "trusted": true
      },
      "execution_count": 10,
      "outputs": [
        {
          "name": "stdout",
          "text": "The UK exports to 107 countries.\nThe 5 biggest importers from the UK are:\n",
          "output_type": "stream"
        },
        {
          "execution_count": 10,
          "output_type": "execute_result",
          "data": {
            "text/plain": "Partner\nIreland                 128155891\nNetherlands              18018603\nChina                    14111163\nGermany                  10828464\nChina, Hong Kong SAR      9482458\nName: Trade Value (US$), dtype: int64"
          },
          "metadata": {}
        }
      ]
    },
    {
      "cell_type": "markdown",
      "source": "## Regular importers\n\nGiven that there are two commodities, the third question, 'Which are the regular customers, i.e. which countries buy milk from the UK every month?', is meant in the sense that a regular customer imports both commodities every month. This means that if the exports dataframe is grouped by country, each group has exactly ten rows (two commodities bought each of the five months). To see the countries, only the first month of one commodity has to be listed, as by definition it's the same countries every month and for the other commodity.",
      "metadata": {}
    },
    {
      "cell_type": "code",
      "source": "def buysEveryMonth(group):\n    return len(group) == 10\n\ngrouped = exports.groupby([PARTNER])\nregular = grouped.filter(buysEveryMonth)\nregular[(regular[MONTH] == 201501) & (regular[COMMODITY] == 'processed')]",
      "metadata": {
        "activity": false,
        "trusted": true
      },
      "execution_count": 11,
      "outputs": [
        {
          "execution_count": 11,
          "output_type": "execute_result",
          "data": {
            "text/plain": "     Period               Partner Trade Flow Milk and cream  Trade Value (US$)\n268  201501               Belgium    Exports      processed             142610\n271  201501                 China    Exports      processed            1013141\n275  201501                Cyprus    Exports      processed               6625\n280  201501               Denmark    Exports      processed             107883\n284  201501                France    Exports      processed             178262\n287  201501               Germany    Exports      processed            2588380\n292  201501  China, Hong Kong SAR    Exports      processed            1110086\n294  201501               Hungary    Exports      processed               2119\n298  201501               Ireland    Exports      processed            4020981\n300  201501                 Italy    Exports      processed              23267\n311  201501                 Malta    Exports      processed               1403\n314  201501           Netherlands    Exports      processed            3788929\n317  201501                Poland    Exports      processed              10145\n319  201501              Portugal    Exports      processed               3165\n327  201501                 Spain    Exports      processed              10107\n329  201501                Sweden    Exports      processed               1739\n332  201501  United Arab Emirates    Exports      processed             417480",
            "text/html": "<div>\n<style scoped>\n    .dataframe tbody tr th:only-of-type {\n        vertical-align: middle;\n    }\n\n    .dataframe tbody tr th {\n        vertical-align: top;\n    }\n\n    .dataframe thead th {\n        text-align: right;\n    }\n</style>\n<table border=\"1\" class=\"dataframe\">\n  <thead>\n    <tr style=\"text-align: right;\">\n      <th></th>\n      <th>Period</th>\n      <th>Partner</th>\n      <th>Trade Flow</th>\n      <th>Milk and cream</th>\n      <th>Trade Value (US$)</th>\n    </tr>\n  </thead>\n  <tbody>\n    <tr>\n      <th>268</th>\n      <td>201501</td>\n      <td>Belgium</td>\n      <td>Exports</td>\n      <td>processed</td>\n      <td>142610</td>\n    </tr>\n    <tr>\n      <th>271</th>\n      <td>201501</td>\n      <td>China</td>\n      <td>Exports</td>\n      <td>processed</td>\n      <td>1013141</td>\n    </tr>\n    <tr>\n      <th>275</th>\n      <td>201501</td>\n      <td>Cyprus</td>\n      <td>Exports</td>\n      <td>processed</td>\n      <td>6625</td>\n    </tr>\n    <tr>\n      <th>280</th>\n      <td>201501</td>\n      <td>Denmark</td>\n      <td>Exports</td>\n      <td>processed</td>\n      <td>107883</td>\n    </tr>\n    <tr>\n      <th>284</th>\n      <td>201501</td>\n      <td>France</td>\n      <td>Exports</td>\n      <td>processed</td>\n      <td>178262</td>\n    </tr>\n    <tr>\n      <th>287</th>\n      <td>201501</td>\n      <td>Germany</td>\n      <td>Exports</td>\n      <td>processed</td>\n      <td>2588380</td>\n    </tr>\n    <tr>\n      <th>292</th>\n      <td>201501</td>\n      <td>China, Hong Kong SAR</td>\n      <td>Exports</td>\n      <td>processed</td>\n      <td>1110086</td>\n    </tr>\n    <tr>\n      <th>294</th>\n      <td>201501</td>\n      <td>Hungary</td>\n      <td>Exports</td>\n      <td>processed</td>\n      <td>2119</td>\n    </tr>\n    <tr>\n      <th>298</th>\n      <td>201501</td>\n      <td>Ireland</td>\n      <td>Exports</td>\n      <td>processed</td>\n      <td>4020981</td>\n    </tr>\n    <tr>\n      <th>300</th>\n      <td>201501</td>\n      <td>Italy</td>\n      <td>Exports</td>\n      <td>processed</td>\n      <td>23267</td>\n    </tr>\n    <tr>\n      <th>311</th>\n      <td>201501</td>\n      <td>Malta</td>\n      <td>Exports</td>\n      <td>processed</td>\n      <td>1403</td>\n    </tr>\n    <tr>\n      <th>314</th>\n      <td>201501</td>\n      <td>Netherlands</td>\n      <td>Exports</td>\n      <td>processed</td>\n      <td>3788929</td>\n    </tr>\n    <tr>\n      <th>317</th>\n      <td>201501</td>\n      <td>Poland</td>\n      <td>Exports</td>\n      <td>processed</td>\n      <td>10145</td>\n    </tr>\n    <tr>\n      <th>319</th>\n      <td>201501</td>\n      <td>Portugal</td>\n      <td>Exports</td>\n      <td>processed</td>\n      <td>3165</td>\n    </tr>\n    <tr>\n      <th>327</th>\n      <td>201501</td>\n      <td>Spain</td>\n      <td>Exports</td>\n      <td>processed</td>\n      <td>10107</td>\n    </tr>\n    <tr>\n      <th>329</th>\n      <td>201501</td>\n      <td>Sweden</td>\n      <td>Exports</td>\n      <td>processed</td>\n      <td>1739</td>\n    </tr>\n    <tr>\n      <th>332</th>\n      <td>201501</td>\n      <td>United Arab Emirates</td>\n      <td>Exports</td>\n      <td>processed</td>\n      <td>417480</td>\n    </tr>\n  </tbody>\n</table>\n</div>"
          },
          "metadata": {}
        }
      ]
    },
    {
      "cell_type": "markdown",
      "source": "Just over 75% of the total UK exports are due to these regular customers.",
      "metadata": {}
    },
    {
      "cell_type": "code",
      "source": "regular[VALUE].sum() / exports[VALUE].sum()",
      "metadata": {
        "activity": false,
        "trusted": true
      },
      "execution_count": 12,
      "outputs": [
        {
          "execution_count": 12,
          "output_type": "execute_result",
          "data": {
            "text/plain": "0.7583526396315317"
          },
          "metadata": {}
        }
      ]
    },
    {
      "cell_type": "markdown",
      "source": "## Bi-directional trade\n\nTo address the fourth question, \n'Which countries does the UK both import from and export to?', a pivot table is used to list the total export and import value for each country. ",
      "metadata": {}
    },
    {
      "cell_type": "code",
      "source": "countries = pivot_table(milk, index=[PARTNER], columns=[FLOW], \n                        values=VALUE, aggfunc=sum)\ncountries.head()",
      "metadata": {
        "activity": false,
        "trusted": true
      },
      "execution_count": 13,
      "outputs": [
        {
          "execution_count": 13,
          "output_type": "execute_result",
          "data": {
            "text/plain": "Trade Flow             Exports  Imports\nPartner                                \nAlgeria              8087885.0      NaN\nAngola               2416129.0      NaN\nAntigua and Barbuda    22218.0      NaN\nAreas, nes             51205.0      NaN\nAustralia              81644.0      NaN",
            "text/html": "<div>\n<style scoped>\n    .dataframe tbody tr th:only-of-type {\n        vertical-align: middle;\n    }\n\n    .dataframe tbody tr th {\n        vertical-align: top;\n    }\n\n    .dataframe thead th {\n        text-align: right;\n    }\n</style>\n<table border=\"1\" class=\"dataframe\">\n  <thead>\n    <tr style=\"text-align: right;\">\n      <th>Trade Flow</th>\n      <th>Exports</th>\n      <th>Imports</th>\n    </tr>\n    <tr>\n      <th>Partner</th>\n      <th></th>\n      <th></th>\n    </tr>\n  </thead>\n  <tbody>\n    <tr>\n      <th>Algeria</th>\n      <td>8087885.0</td>\n      <td>NaN</td>\n    </tr>\n    <tr>\n      <th>Angola</th>\n      <td>2416129.0</td>\n      <td>NaN</td>\n    </tr>\n    <tr>\n      <th>Antigua and Barbuda</th>\n      <td>22218.0</td>\n      <td>NaN</td>\n    </tr>\n    <tr>\n      <th>Areas, nes</th>\n      <td>51205.0</td>\n      <td>NaN</td>\n    </tr>\n    <tr>\n      <th>Australia</th>\n      <td>81644.0</td>\n      <td>NaN</td>\n    </tr>\n  </tbody>\n</table>\n</div>"
          },
          "metadata": {}
        }
      ]
    },
    {
      "cell_type": "markdown",
      "source": "Removing the rows with a missing value will result in only those countries with bi-directional trade flow with the UK.",
      "metadata": {}
    },
    {
      "cell_type": "code",
      "source": "countries.dropna()",
      "metadata": {
        "activity": false,
        "trusted": true
      },
      "execution_count": 14,
      "outputs": [
        {
          "execution_count": 14,
          "output_type": "execute_result",
          "data": {
            "text/plain": "Trade Flow                    Exports     Imports\nPartner                                          \nAustria                       56279.0       780.0\nBelgium                     7209121.0  14325697.0\nCzech Rep.                     2590.0    486889.0\nDenmark                      335068.0  13681759.0\nFrance                      9381762.0  28314091.0\nGermany                    10828464.0  21899123.0\nHungary                       71378.0      4762.0\nIreland                   128155891.0  46263897.0\nItaly                        173689.0    321635.0\nLatvia                          567.0       870.0\nLithuania                      1172.0    318407.0\nNetherlands                18018603.0  17658912.0\nPoland                       106659.0   4933917.0\nPortugal                      25855.0    308654.0\nRomania                          36.0    975996.0\nSlovakia                         65.0     39990.0\nSpain                       1229172.0   4910615.0\nSweden                        34972.0   1962413.0\nUnited Arab Emirates        1590593.0     27225.0\nUnited States of America     548910.0     46044.0",
            "text/html": "<div>\n<style scoped>\n    .dataframe tbody tr th:only-of-type {\n        vertical-align: middle;\n    }\n\n    .dataframe tbody tr th {\n        vertical-align: top;\n    }\n\n    .dataframe thead th {\n        text-align: right;\n    }\n</style>\n<table border=\"1\" class=\"dataframe\">\n  <thead>\n    <tr style=\"text-align: right;\">\n      <th>Trade Flow</th>\n      <th>Exports</th>\n      <th>Imports</th>\n    </tr>\n    <tr>\n      <th>Partner</th>\n      <th></th>\n      <th></th>\n    </tr>\n  </thead>\n  <tbody>\n    <tr>\n      <th>Austria</th>\n      <td>56279.0</td>\n      <td>780.0</td>\n    </tr>\n    <tr>\n      <th>Belgium</th>\n      <td>7209121.0</td>\n      <td>14325697.0</td>\n    </tr>\n    <tr>\n      <th>Czech Rep.</th>\n      <td>2590.0</td>\n      <td>486889.0</td>\n    </tr>\n    <tr>\n      <th>Denmark</th>\n      <td>335068.0</td>\n      <td>13681759.0</td>\n    </tr>\n    <tr>\n      <th>France</th>\n      <td>9381762.0</td>\n      <td>28314091.0</td>\n    </tr>\n    <tr>\n      <th>Germany</th>\n      <td>10828464.0</td>\n      <td>21899123.0</td>\n    </tr>\n    <tr>\n      <th>Hungary</th>\n      <td>71378.0</td>\n      <td>4762.0</td>\n    </tr>\n    <tr>\n      <th>Ireland</th>\n      <td>128155891.0</td>\n      <td>46263897.0</td>\n    </tr>\n    <tr>\n      <th>Italy</th>\n      <td>173689.0</td>\n      <td>321635.0</td>\n    </tr>\n    <tr>\n      <th>Latvia</th>\n      <td>567.0</td>\n      <td>870.0</td>\n    </tr>\n    <tr>\n      <th>Lithuania</th>\n      <td>1172.0</td>\n      <td>318407.0</td>\n    </tr>\n    <tr>\n      <th>Netherlands</th>\n      <td>18018603.0</td>\n      <td>17658912.0</td>\n    </tr>\n    <tr>\n      <th>Poland</th>\n      <td>106659.0</td>\n      <td>4933917.0</td>\n    </tr>\n    <tr>\n      <th>Portugal</th>\n      <td>25855.0</td>\n      <td>308654.0</td>\n    </tr>\n    <tr>\n      <th>Romania</th>\n      <td>36.0</td>\n      <td>975996.0</td>\n    </tr>\n    <tr>\n      <th>Slovakia</th>\n      <td>65.0</td>\n      <td>39990.0</td>\n    </tr>\n    <tr>\n      <th>Spain</th>\n      <td>1229172.0</td>\n      <td>4910615.0</td>\n    </tr>\n    <tr>\n      <th>Sweden</th>\n      <td>34972.0</td>\n      <td>1962413.0</td>\n    </tr>\n    <tr>\n      <th>United Arab Emirates</th>\n      <td>1590593.0</td>\n      <td>27225.0</td>\n    </tr>\n    <tr>\n      <th>United States of America</th>\n      <td>548910.0</td>\n      <td>46044.0</td>\n    </tr>\n  </tbody>\n</table>\n</div>"
          },
          "metadata": {}
        }
      ]
    },
    {
      "cell_type": "markdown",
      "source": "## Conclusions\n\nThe milk and cream trade of the UK from January to May 2015 was analysed in terms of which countries the UK mostly depends on for income (exports) and goods (imports). Over the period, the UK had a trade surplus of over 100 million US dollars.\n\nIreland is the main partner, but it imported from the UK almost the triple in value than it exported to the UK. \n\nThe UK exported to over 100 countries during the period, but only imported from 21 countries, the main ones (top five by trade value) being geographically close. China and Hong Kong are the main importers that are not also main exporters. \n\nThe UK is heavily dependent on its regular customers, the 16 countries that buy all types of milk and cream every month. They contribute three quarters of the total export value.\n\nThe UK has bi-directional trade (i.e. both exports and imports) with 20 countries, although for some the trade value (in US dollars) is suspiciously low, which raises questions about the data's accuracy.",
      "metadata": {}
    }
  ]
}